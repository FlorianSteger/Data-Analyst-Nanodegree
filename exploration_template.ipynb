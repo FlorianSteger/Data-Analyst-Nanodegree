{
 "cells": [
  {
   "cell_type": "markdown",
   "metadata": {},
   "source": [
    "# Exploration of Flight Delays\n",
    "### by Florian Steger"
   ]
  },
  {
   "cell_type": "markdown",
   "metadata": {},
   "source": [
    "## Preliminary Wrangling"
   ]
  },
  {
   "cell_type": "markdown",
   "metadata": {},
   "source": [
    "> This dataset reports flights in the United States, including\n",
    "carriers, arrival and departure delays, and reasons for delays.<br>\n",
    "Due to the huge size of the data I will use data from the year 2008 only. <br>\n",
    "More details on the data set can be found here: http://stat-computing.org/dataexpo/2009/the-data.html"
   ]
  },
  {
   "cell_type": "code",
   "execution_count": 1,
   "metadata": {},
   "outputs": [],
   "source": [
    "# import all packages and set plots to be embedded inline\n",
    "import numpy as np\n",
    "import pandas as pd\n",
    "import matplotlib.pyplot as plt\n",
    "import seaborn as sb\n",
    "\n",
    "%matplotlib inline"
   ]
  },
  {
   "cell_type": "code",
   "execution_count": 2,
   "metadata": {},
   "outputs": [],
   "source": [
    "# load in the dataset into a pandas dataframe\n",
    "flight2008 = pd.read_csv('2008.csv')"
   ]
  },
  {
   "cell_type": "code",
   "execution_count": 3,
   "metadata": {},
   "outputs": [
    {
     "data": {
      "text/plain": [
       "(7009728, 29)"
      ]
     },
     "execution_count": 3,
     "metadata": {},
     "output_type": "execute_result"
    }
   ],
   "source": [
    "# basic overview\n",
    "flight2008.shape"
   ]
  },
  {
   "cell_type": "code",
   "execution_count": 4,
   "metadata": {},
   "outputs": [
    {
     "data": {
      "text/plain": [
       "Year                   int64\n",
       "Month                  int64\n",
       "DayofMonth             int64\n",
       "DayOfWeek              int64\n",
       "DepTime              float64\n",
       "CRSDepTime             int64\n",
       "ArrTime              float64\n",
       "CRSArrTime             int64\n",
       "UniqueCarrier         object\n",
       "FlightNum              int64\n",
       "TailNum               object\n",
       "ActualElapsedTime    float64\n",
       "CRSElapsedTime       float64\n",
       "AirTime              float64\n",
       "ArrDelay             float64\n",
       "DepDelay             float64\n",
       "Origin                object\n",
       "Dest                  object\n",
       "Distance               int64\n",
       "TaxiIn               float64\n",
       "TaxiOut              float64\n",
       "Cancelled              int64\n",
       "CancellationCode      object\n",
       "Diverted               int64\n",
       "CarrierDelay         float64\n",
       "WeatherDelay         float64\n",
       "NASDelay             float64\n",
       "SecurityDelay        float64\n",
       "LateAircraftDelay    float64\n",
       "dtype: object"
      ]
     },
     "execution_count": 4,
     "metadata": {},
     "output_type": "execute_result"
    }
   ],
   "source": [
    "flight2008.dtypes"
   ]
  },
  {
   "cell_type": "code",
   "execution_count": 5,
   "metadata": {},
   "outputs": [
    {
     "data": {
      "text/html": [
       "<div>\n",
       "<style scoped>\n",
       "    .dataframe tbody tr th:only-of-type {\n",
       "        vertical-align: middle;\n",
       "    }\n",
       "\n",
       "    .dataframe tbody tr th {\n",
       "        vertical-align: top;\n",
       "    }\n",
       "\n",
       "    .dataframe thead th {\n",
       "        text-align: right;\n",
       "    }\n",
       "</style>\n",
       "<table border=\"1\" class=\"dataframe\">\n",
       "  <thead>\n",
       "    <tr style=\"text-align: right;\">\n",
       "      <th></th>\n",
       "      <th>Year</th>\n",
       "      <th>Month</th>\n",
       "      <th>DayofMonth</th>\n",
       "      <th>DayOfWeek</th>\n",
       "      <th>DepTime</th>\n",
       "      <th>CRSDepTime</th>\n",
       "      <th>ArrTime</th>\n",
       "      <th>CRSArrTime</th>\n",
       "      <th>UniqueCarrier</th>\n",
       "      <th>FlightNum</th>\n",
       "      <th>...</th>\n",
       "      <th>TaxiIn</th>\n",
       "      <th>TaxiOut</th>\n",
       "      <th>Cancelled</th>\n",
       "      <th>CancellationCode</th>\n",
       "      <th>Diverted</th>\n",
       "      <th>CarrierDelay</th>\n",
       "      <th>WeatherDelay</th>\n",
       "      <th>NASDelay</th>\n",
       "      <th>SecurityDelay</th>\n",
       "      <th>LateAircraftDelay</th>\n",
       "    </tr>\n",
       "  </thead>\n",
       "  <tbody>\n",
       "    <tr>\n",
       "      <th>0</th>\n",
       "      <td>2008</td>\n",
       "      <td>1</td>\n",
       "      <td>3</td>\n",
       "      <td>4</td>\n",
       "      <td>2003.0</td>\n",
       "      <td>1955</td>\n",
       "      <td>2211.0</td>\n",
       "      <td>2225</td>\n",
       "      <td>WN</td>\n",
       "      <td>335</td>\n",
       "      <td>...</td>\n",
       "      <td>4.0</td>\n",
       "      <td>8.0</td>\n",
       "      <td>0</td>\n",
       "      <td>NaN</td>\n",
       "      <td>0</td>\n",
       "      <td>NaN</td>\n",
       "      <td>NaN</td>\n",
       "      <td>NaN</td>\n",
       "      <td>NaN</td>\n",
       "      <td>NaN</td>\n",
       "    </tr>\n",
       "    <tr>\n",
       "      <th>1</th>\n",
       "      <td>2008</td>\n",
       "      <td>1</td>\n",
       "      <td>3</td>\n",
       "      <td>4</td>\n",
       "      <td>754.0</td>\n",
       "      <td>735</td>\n",
       "      <td>1002.0</td>\n",
       "      <td>1000</td>\n",
       "      <td>WN</td>\n",
       "      <td>3231</td>\n",
       "      <td>...</td>\n",
       "      <td>5.0</td>\n",
       "      <td>10.0</td>\n",
       "      <td>0</td>\n",
       "      <td>NaN</td>\n",
       "      <td>0</td>\n",
       "      <td>NaN</td>\n",
       "      <td>NaN</td>\n",
       "      <td>NaN</td>\n",
       "      <td>NaN</td>\n",
       "      <td>NaN</td>\n",
       "    </tr>\n",
       "    <tr>\n",
       "      <th>2</th>\n",
       "      <td>2008</td>\n",
       "      <td>1</td>\n",
       "      <td>3</td>\n",
       "      <td>4</td>\n",
       "      <td>628.0</td>\n",
       "      <td>620</td>\n",
       "      <td>804.0</td>\n",
       "      <td>750</td>\n",
       "      <td>WN</td>\n",
       "      <td>448</td>\n",
       "      <td>...</td>\n",
       "      <td>3.0</td>\n",
       "      <td>17.0</td>\n",
       "      <td>0</td>\n",
       "      <td>NaN</td>\n",
       "      <td>0</td>\n",
       "      <td>NaN</td>\n",
       "      <td>NaN</td>\n",
       "      <td>NaN</td>\n",
       "      <td>NaN</td>\n",
       "      <td>NaN</td>\n",
       "    </tr>\n",
       "    <tr>\n",
       "      <th>3</th>\n",
       "      <td>2008</td>\n",
       "      <td>1</td>\n",
       "      <td>3</td>\n",
       "      <td>4</td>\n",
       "      <td>926.0</td>\n",
       "      <td>930</td>\n",
       "      <td>1054.0</td>\n",
       "      <td>1100</td>\n",
       "      <td>WN</td>\n",
       "      <td>1746</td>\n",
       "      <td>...</td>\n",
       "      <td>3.0</td>\n",
       "      <td>7.0</td>\n",
       "      <td>0</td>\n",
       "      <td>NaN</td>\n",
       "      <td>0</td>\n",
       "      <td>NaN</td>\n",
       "      <td>NaN</td>\n",
       "      <td>NaN</td>\n",
       "      <td>NaN</td>\n",
       "      <td>NaN</td>\n",
       "    </tr>\n",
       "    <tr>\n",
       "      <th>4</th>\n",
       "      <td>2008</td>\n",
       "      <td>1</td>\n",
       "      <td>3</td>\n",
       "      <td>4</td>\n",
       "      <td>1829.0</td>\n",
       "      <td>1755</td>\n",
       "      <td>1959.0</td>\n",
       "      <td>1925</td>\n",
       "      <td>WN</td>\n",
       "      <td>3920</td>\n",
       "      <td>...</td>\n",
       "      <td>3.0</td>\n",
       "      <td>10.0</td>\n",
       "      <td>0</td>\n",
       "      <td>NaN</td>\n",
       "      <td>0</td>\n",
       "      <td>2.0</td>\n",
       "      <td>0.0</td>\n",
       "      <td>0.0</td>\n",
       "      <td>0.0</td>\n",
       "      <td>32.0</td>\n",
       "    </tr>\n",
       "  </tbody>\n",
       "</table>\n",
       "<p>5 rows × 29 columns</p>\n",
       "</div>"
      ],
      "text/plain": [
       "   Year  Month  DayofMonth  DayOfWeek  DepTime  CRSDepTime  ArrTime  \\\n",
       "0  2008      1           3          4   2003.0        1955   2211.0   \n",
       "1  2008      1           3          4    754.0         735   1002.0   \n",
       "2  2008      1           3          4    628.0         620    804.0   \n",
       "3  2008      1           3          4    926.0         930   1054.0   \n",
       "4  2008      1           3          4   1829.0        1755   1959.0   \n",
       "\n",
       "   CRSArrTime UniqueCarrier  FlightNum        ...         TaxiIn  TaxiOut  \\\n",
       "0        2225            WN        335        ...            4.0      8.0   \n",
       "1        1000            WN       3231        ...            5.0     10.0   \n",
       "2         750            WN        448        ...            3.0     17.0   \n",
       "3        1100            WN       1746        ...            3.0      7.0   \n",
       "4        1925            WN       3920        ...            3.0     10.0   \n",
       "\n",
       "   Cancelled  CancellationCode  Diverted  CarrierDelay WeatherDelay NASDelay  \\\n",
       "0          0               NaN         0           NaN          NaN      NaN   \n",
       "1          0               NaN         0           NaN          NaN      NaN   \n",
       "2          0               NaN         0           NaN          NaN      NaN   \n",
       "3          0               NaN         0           NaN          NaN      NaN   \n",
       "4          0               NaN         0           2.0          0.0      0.0   \n",
       "\n",
       "   SecurityDelay  LateAircraftDelay  \n",
       "0            NaN                NaN  \n",
       "1            NaN                NaN  \n",
       "2            NaN                NaN  \n",
       "3            NaN                NaN  \n",
       "4            0.0               32.0  \n",
       "\n",
       "[5 rows x 29 columns]"
      ]
     },
     "execution_count": 5,
     "metadata": {},
     "output_type": "execute_result"
    }
   ],
   "source": [
    "flight2008.head()"
   ]
  },
  {
   "cell_type": "code",
   "execution_count": 6,
   "metadata": {},
   "outputs": [
    {
     "data": {
      "text/html": [
       "<div>\n",
       "<style scoped>\n",
       "    .dataframe tbody tr th:only-of-type {\n",
       "        vertical-align: middle;\n",
       "    }\n",
       "\n",
       "    .dataframe tbody tr th {\n",
       "        vertical-align: top;\n",
       "    }\n",
       "\n",
       "    .dataframe thead th {\n",
       "        text-align: right;\n",
       "    }\n",
       "</style>\n",
       "<table border=\"1\" class=\"dataframe\">\n",
       "  <thead>\n",
       "    <tr style=\"text-align: right;\">\n",
       "      <th></th>\n",
       "      <th>Year</th>\n",
       "      <th>Month</th>\n",
       "      <th>DayofMonth</th>\n",
       "      <th>DayOfWeek</th>\n",
       "      <th>DepTime</th>\n",
       "      <th>CRSDepTime</th>\n",
       "      <th>ArrTime</th>\n",
       "      <th>CRSArrTime</th>\n",
       "      <th>FlightNum</th>\n",
       "      <th>ActualElapsedTime</th>\n",
       "      <th>...</th>\n",
       "      <th>Distance</th>\n",
       "      <th>TaxiIn</th>\n",
       "      <th>TaxiOut</th>\n",
       "      <th>Cancelled</th>\n",
       "      <th>Diverted</th>\n",
       "      <th>CarrierDelay</th>\n",
       "      <th>WeatherDelay</th>\n",
       "      <th>NASDelay</th>\n",
       "      <th>SecurityDelay</th>\n",
       "      <th>LateAircraftDelay</th>\n",
       "    </tr>\n",
       "  </thead>\n",
       "  <tbody>\n",
       "    <tr>\n",
       "      <th>count</th>\n",
       "      <td>7009728.0</td>\n",
       "      <td>7.009728e+06</td>\n",
       "      <td>7.009728e+06</td>\n",
       "      <td>7.009728e+06</td>\n",
       "      <td>6.873482e+06</td>\n",
       "      <td>7.009728e+06</td>\n",
       "      <td>6.858079e+06</td>\n",
       "      <td>7.009728e+06</td>\n",
       "      <td>7.009728e+06</td>\n",
       "      <td>6.855029e+06</td>\n",
       "      <td>...</td>\n",
       "      <td>7.009728e+06</td>\n",
       "      <td>6.858079e+06</td>\n",
       "      <td>6.872670e+06</td>\n",
       "      <td>7.009728e+06</td>\n",
       "      <td>7.009728e+06</td>\n",
       "      <td>1.524735e+06</td>\n",
       "      <td>1.524735e+06</td>\n",
       "      <td>1.524735e+06</td>\n",
       "      <td>1.524735e+06</td>\n",
       "      <td>1.524735e+06</td>\n",
       "    </tr>\n",
       "    <tr>\n",
       "      <th>mean</th>\n",
       "      <td>2008.0</td>\n",
       "      <td>6.375130e+00</td>\n",
       "      <td>1.572801e+01</td>\n",
       "      <td>3.924182e+00</td>\n",
       "      <td>1.333830e+03</td>\n",
       "      <td>1.326086e+03</td>\n",
       "      <td>1.481258e+03</td>\n",
       "      <td>1.494801e+03</td>\n",
       "      <td>2.224200e+03</td>\n",
       "      <td>1.273224e+02</td>\n",
       "      <td>...</td>\n",
       "      <td>7.263870e+02</td>\n",
       "      <td>6.860852e+00</td>\n",
       "      <td>1.645305e+01</td>\n",
       "      <td>1.960618e-02</td>\n",
       "      <td>2.463006e-03</td>\n",
       "      <td>1.577206e+01</td>\n",
       "      <td>3.039031e+00</td>\n",
       "      <td>1.716462e+01</td>\n",
       "      <td>7.497434e-02</td>\n",
       "      <td>2.077098e+01</td>\n",
       "    </tr>\n",
       "    <tr>\n",
       "      <th>std</th>\n",
       "      <td>0.0</td>\n",
       "      <td>3.406737e+00</td>\n",
       "      <td>8.797068e+00</td>\n",
       "      <td>1.988259e+00</td>\n",
       "      <td>4.780689e+02</td>\n",
       "      <td>4.642509e+02</td>\n",
       "      <td>5.052251e+02</td>\n",
       "      <td>4.826728e+02</td>\n",
       "      <td>1.961716e+03</td>\n",
       "      <td>7.018731e+01</td>\n",
       "      <td>...</td>\n",
       "      <td>5.621018e+02</td>\n",
       "      <td>4.933649e+00</td>\n",
       "      <td>1.133280e+01</td>\n",
       "      <td>1.386426e-01</td>\n",
       "      <td>4.956753e-02</td>\n",
       "      <td>4.009912e+01</td>\n",
       "      <td>1.950287e+01</td>\n",
       "      <td>3.189495e+01</td>\n",
       "      <td>1.837940e+00</td>\n",
       "      <td>3.925964e+01</td>\n",
       "    </tr>\n",
       "    <tr>\n",
       "      <th>min</th>\n",
       "      <td>2008.0</td>\n",
       "      <td>1.000000e+00</td>\n",
       "      <td>1.000000e+00</td>\n",
       "      <td>1.000000e+00</td>\n",
       "      <td>1.000000e+00</td>\n",
       "      <td>0.000000e+00</td>\n",
       "      <td>1.000000e+00</td>\n",
       "      <td>0.000000e+00</td>\n",
       "      <td>1.000000e+00</td>\n",
       "      <td>1.200000e+01</td>\n",
       "      <td>...</td>\n",
       "      <td>1.100000e+01</td>\n",
       "      <td>0.000000e+00</td>\n",
       "      <td>0.000000e+00</td>\n",
       "      <td>0.000000e+00</td>\n",
       "      <td>0.000000e+00</td>\n",
       "      <td>0.000000e+00</td>\n",
       "      <td>0.000000e+00</td>\n",
       "      <td>0.000000e+00</td>\n",
       "      <td>0.000000e+00</td>\n",
       "      <td>0.000000e+00</td>\n",
       "    </tr>\n",
       "    <tr>\n",
       "      <th>25%</th>\n",
       "      <td>2008.0</td>\n",
       "      <td>3.000000e+00</td>\n",
       "      <td>8.000000e+00</td>\n",
       "      <td>2.000000e+00</td>\n",
       "      <td>9.280000e+02</td>\n",
       "      <td>9.250000e+02</td>\n",
       "      <td>1.107000e+03</td>\n",
       "      <td>1.115000e+03</td>\n",
       "      <td>6.220000e+02</td>\n",
       "      <td>7.700000e+01</td>\n",
       "      <td>...</td>\n",
       "      <td>3.250000e+02</td>\n",
       "      <td>4.000000e+00</td>\n",
       "      <td>1.000000e+01</td>\n",
       "      <td>0.000000e+00</td>\n",
       "      <td>0.000000e+00</td>\n",
       "      <td>0.000000e+00</td>\n",
       "      <td>0.000000e+00</td>\n",
       "      <td>0.000000e+00</td>\n",
       "      <td>0.000000e+00</td>\n",
       "      <td>0.000000e+00</td>\n",
       "    </tr>\n",
       "    <tr>\n",
       "      <th>50%</th>\n",
       "      <td>2008.0</td>\n",
       "      <td>6.000000e+00</td>\n",
       "      <td>1.600000e+01</td>\n",
       "      <td>4.000000e+00</td>\n",
       "      <td>1.325000e+03</td>\n",
       "      <td>1.320000e+03</td>\n",
       "      <td>1.512000e+03</td>\n",
       "      <td>1.517000e+03</td>\n",
       "      <td>1.571000e+03</td>\n",
       "      <td>1.100000e+02</td>\n",
       "      <td>...</td>\n",
       "      <td>5.810000e+02</td>\n",
       "      <td>6.000000e+00</td>\n",
       "      <td>1.400000e+01</td>\n",
       "      <td>0.000000e+00</td>\n",
       "      <td>0.000000e+00</td>\n",
       "      <td>0.000000e+00</td>\n",
       "      <td>0.000000e+00</td>\n",
       "      <td>6.000000e+00</td>\n",
       "      <td>0.000000e+00</td>\n",
       "      <td>0.000000e+00</td>\n",
       "    </tr>\n",
       "    <tr>\n",
       "      <th>75%</th>\n",
       "      <td>2008.0</td>\n",
       "      <td>9.000000e+00</td>\n",
       "      <td>2.300000e+01</td>\n",
       "      <td>6.000000e+00</td>\n",
       "      <td>1.728000e+03</td>\n",
       "      <td>1.715000e+03</td>\n",
       "      <td>1.909000e+03</td>\n",
       "      <td>1.907000e+03</td>\n",
       "      <td>3.518000e+03</td>\n",
       "      <td>1.570000e+02</td>\n",
       "      <td>...</td>\n",
       "      <td>9.540000e+02</td>\n",
       "      <td>8.000000e+00</td>\n",
       "      <td>1.900000e+01</td>\n",
       "      <td>0.000000e+00</td>\n",
       "      <td>0.000000e+00</td>\n",
       "      <td>1.600000e+01</td>\n",
       "      <td>0.000000e+00</td>\n",
       "      <td>2.100000e+01</td>\n",
       "      <td>0.000000e+00</td>\n",
       "      <td>2.600000e+01</td>\n",
       "    </tr>\n",
       "    <tr>\n",
       "      <th>max</th>\n",
       "      <td>2008.0</td>\n",
       "      <td>1.200000e+01</td>\n",
       "      <td>3.100000e+01</td>\n",
       "      <td>7.000000e+00</td>\n",
       "      <td>2.400000e+03</td>\n",
       "      <td>2.359000e+03</td>\n",
       "      <td>2.400000e+03</td>\n",
       "      <td>2.400000e+03</td>\n",
       "      <td>9.743000e+03</td>\n",
       "      <td>1.379000e+03</td>\n",
       "      <td>...</td>\n",
       "      <td>4.962000e+03</td>\n",
       "      <td>3.080000e+02</td>\n",
       "      <td>4.290000e+02</td>\n",
       "      <td>1.000000e+00</td>\n",
       "      <td>1.000000e+00</td>\n",
       "      <td>2.436000e+03</td>\n",
       "      <td>1.352000e+03</td>\n",
       "      <td>1.357000e+03</td>\n",
       "      <td>3.920000e+02</td>\n",
       "      <td>1.316000e+03</td>\n",
       "    </tr>\n",
       "  </tbody>\n",
       "</table>\n",
       "<p>8 rows × 24 columns</p>\n",
       "</div>"
      ],
      "text/plain": [
       "            Year         Month    DayofMonth     DayOfWeek       DepTime  \\\n",
       "count  7009728.0  7.009728e+06  7.009728e+06  7.009728e+06  6.873482e+06   \n",
       "mean      2008.0  6.375130e+00  1.572801e+01  3.924182e+00  1.333830e+03   \n",
       "std          0.0  3.406737e+00  8.797068e+00  1.988259e+00  4.780689e+02   \n",
       "min       2008.0  1.000000e+00  1.000000e+00  1.000000e+00  1.000000e+00   \n",
       "25%       2008.0  3.000000e+00  8.000000e+00  2.000000e+00  9.280000e+02   \n",
       "50%       2008.0  6.000000e+00  1.600000e+01  4.000000e+00  1.325000e+03   \n",
       "75%       2008.0  9.000000e+00  2.300000e+01  6.000000e+00  1.728000e+03   \n",
       "max       2008.0  1.200000e+01  3.100000e+01  7.000000e+00  2.400000e+03   \n",
       "\n",
       "         CRSDepTime       ArrTime    CRSArrTime     FlightNum  \\\n",
       "count  7.009728e+06  6.858079e+06  7.009728e+06  7.009728e+06   \n",
       "mean   1.326086e+03  1.481258e+03  1.494801e+03  2.224200e+03   \n",
       "std    4.642509e+02  5.052251e+02  4.826728e+02  1.961716e+03   \n",
       "min    0.000000e+00  1.000000e+00  0.000000e+00  1.000000e+00   \n",
       "25%    9.250000e+02  1.107000e+03  1.115000e+03  6.220000e+02   \n",
       "50%    1.320000e+03  1.512000e+03  1.517000e+03  1.571000e+03   \n",
       "75%    1.715000e+03  1.909000e+03  1.907000e+03  3.518000e+03   \n",
       "max    2.359000e+03  2.400000e+03  2.400000e+03  9.743000e+03   \n",
       "\n",
       "       ActualElapsedTime        ...              Distance        TaxiIn  \\\n",
       "count       6.855029e+06        ...          7.009728e+06  6.858079e+06   \n",
       "mean        1.273224e+02        ...          7.263870e+02  6.860852e+00   \n",
       "std         7.018731e+01        ...          5.621018e+02  4.933649e+00   \n",
       "min         1.200000e+01        ...          1.100000e+01  0.000000e+00   \n",
       "25%         7.700000e+01        ...          3.250000e+02  4.000000e+00   \n",
       "50%         1.100000e+02        ...          5.810000e+02  6.000000e+00   \n",
       "75%         1.570000e+02        ...          9.540000e+02  8.000000e+00   \n",
       "max         1.379000e+03        ...          4.962000e+03  3.080000e+02   \n",
       "\n",
       "            TaxiOut     Cancelled      Diverted  CarrierDelay  WeatherDelay  \\\n",
       "count  6.872670e+06  7.009728e+06  7.009728e+06  1.524735e+06  1.524735e+06   \n",
       "mean   1.645305e+01  1.960618e-02  2.463006e-03  1.577206e+01  3.039031e+00   \n",
       "std    1.133280e+01  1.386426e-01  4.956753e-02  4.009912e+01  1.950287e+01   \n",
       "min    0.000000e+00  0.000000e+00  0.000000e+00  0.000000e+00  0.000000e+00   \n",
       "25%    1.000000e+01  0.000000e+00  0.000000e+00  0.000000e+00  0.000000e+00   \n",
       "50%    1.400000e+01  0.000000e+00  0.000000e+00  0.000000e+00  0.000000e+00   \n",
       "75%    1.900000e+01  0.000000e+00  0.000000e+00  1.600000e+01  0.000000e+00   \n",
       "max    4.290000e+02  1.000000e+00  1.000000e+00  2.436000e+03  1.352000e+03   \n",
       "\n",
       "           NASDelay  SecurityDelay  LateAircraftDelay  \n",
       "count  1.524735e+06   1.524735e+06       1.524735e+06  \n",
       "mean   1.716462e+01   7.497434e-02       2.077098e+01  \n",
       "std    3.189495e+01   1.837940e+00       3.925964e+01  \n",
       "min    0.000000e+00   0.000000e+00       0.000000e+00  \n",
       "25%    0.000000e+00   0.000000e+00       0.000000e+00  \n",
       "50%    6.000000e+00   0.000000e+00       0.000000e+00  \n",
       "75%    2.100000e+01   0.000000e+00       2.600000e+01  \n",
       "max    1.357000e+03   3.920000e+02       1.316000e+03  \n",
       "\n",
       "[8 rows x 24 columns]"
      ]
     },
     "execution_count": 6,
     "metadata": {},
     "output_type": "execute_result"
    }
   ],
   "source": [
    "# some statistics\n",
    "flight2008.describe()"
   ]
  },
  {
   "cell_type": "code",
   "execution_count": 7,
   "metadata": {},
   "outputs": [],
   "source": [
    "#creating a copy with which I will work\n",
    "flights_clean = flight2008.copy()"
   ]
  },
  {
   "cell_type": "code",
   "execution_count": 8,
   "metadata": {},
   "outputs": [],
   "source": [
    "# for further investigations I create two new columns to count the flights\n",
    "flights_clean['Count'] = 1\n",
    "\n",
    "for dataset in flights_clean:\n",
    "    flights_clean.loc[flights_clean['ArrDelay'] > 15, 'Delay'] = 1.0"
   ]
  },
  {
   "cell_type": "code",
   "execution_count": 9,
   "metadata": {},
   "outputs": [],
   "source": [
    "flights_clean = flights_clean.astype({'Delay': float})"
   ]
  },
  {
   "cell_type": "markdown",
   "metadata": {},
   "source": [
    "### What is the structure of your dataset?\n",
    "\n",
    "The dataset consists of 7,009,728 flights (rows) with 29 features (columns) describing delay times and reasons, carrier information and origin and destination. Most variables are numeric (int or float). \n",
    "\n",
    "\n",
    "### What is/are the main feature(s) of interest in your dataset?\n",
    "\n",
    "I'm most interested in figuring out what features are best for predicting the delay (times) of flights in the dataset.\n",
    "\n",
    "### What features in the dataset do you think will help support your investigation into your feature(s) of interest?\n",
    "\n",
    "I expect that the carrier and the origin will have a strong effect on the delays as well as the month due to the weather conditions."
   ]
  },
  {
   "cell_type": "markdown",
   "metadata": {},
   "source": [
    "## 1. Univariate Exploration"
   ]
  },
  {
   "cell_type": "markdown",
   "metadata": {},
   "source": [
    "I'll start by looking at the distribution of Arrival Delays."
   ]
  },
  {
   "cell_type": "code",
   "execution_count": 10,
   "metadata": {},
   "outputs": [
    {
     "data": {
      "image/png": "[encoded data removed]",
      "text/plain": [
       "<Figure size 432x288 with 1 Axes>"
      ]
     },
     "metadata": {
      "needs_background": "light"
     },
     "output_type": "display_data"
    }
   ],
   "source": [
    "bins = np.arange(flights_clean['ArrDelay'].min()-1, flights_clean['ArrDelay'].max()+1, 10)\n",
    "\n",
    "plt.hist(data = flights_clean, x = 'ArrDelay', bins = bins);"
   ]
  },
  {
   "cell_type": "code",
   "execution_count": 11,
   "metadata": {},
   "outputs": [
    {
     "data": {
      "image/png": "[encoded data removed]",
      "text/plain": [
       "<Figure size 432x288 with 1 Axes>"
      ]
     },
     "metadata": {
      "needs_background": "light"
     },
     "output_type": "display_data"
    }
   ],
   "source": [
    "# I want to have a closer look at the distribution of delays so I limit the range\n",
    "bins = np.arange(-51, 151, 1)\n",
    "\n",
    "plt.hist(data = flights_clean, x = 'ArrDelay', bins = bins)\n",
    "plt.xlim(-51, 150);"
   ]
  },
  {
   "cell_type": "code",
   "execution_count": 12,
   "metadata": {},
   "outputs": [
    {
     "data": {
      "text/plain": [
       "-5.0     215990\n",
       "-6.0     215038\n",
       "-7.0     214615\n",
       "-8.0     212039\n",
       "-4.0     209026\n",
       "-9.0     205918\n",
       "-3.0     201173\n",
       "-10.0    199380\n",
       "-2.0     193287\n",
       "-11.0    185161\n",
       "Name: ArrDelay, dtype: int64"
      ]
     },
     "execution_count": 12,
     "metadata": {},
     "output_type": "execute_result"
    }
   ],
   "source": [
    "# confirm the finding that most flights are ahead of time\n",
    "flights_clean['ArrDelay'].value_counts().nlargest(10)"
   ]
  },
  {
   "cell_type": "markdown",
   "metadata": {},
   "source": [
    "The distribution of Arrival Delays nearly looks like normally distributed just squeezed and skewed to the right. Interestingly the huge amount of flights seem to be a little bit ahaed of their scheduled arrival time. "
   ]
  },
  {
   "cell_type": "code",
   "execution_count": 13,
   "metadata": {},
   "outputs": [
    {
     "name": "stdout",
     "output_type": "stream",
     "text": [
      "1018798    2461.0\n",
      "2235378    2453.0\n",
      "2832617    1951.0\n",
      "3387883    1707.0\n",
      "6857047    1655.0\n",
      "5232546    1583.0\n",
      "2232494    1542.0\n",
      "527950     1525.0\n",
      "4061361    1510.0\n",
      "1634129    1490.0\n",
      "Name: ArrDelay, dtype: float64\n",
      "5179806   -519.0\n",
      "2486419   -129.0\n",
      "3698229   -109.0\n",
      "4430894    -92.0\n",
      "262274     -91.0\n",
      "1105515    -90.0\n",
      "6938200    -90.0\n",
      "2115255    -89.0\n",
      "3047942    -87.0\n",
      "375112     -86.0\n",
      "Name: ArrDelay, dtype: float64\n"
     ]
    }
   ],
   "source": [
    "# Just a quick check for outliers\n",
    "print(flights_clean['ArrDelay'].nlargest(10))\n",
    "print(flights_clean['ArrDelay'].nsmallest(10))"
   ]
  },
  {
   "cell_type": "markdown",
   "metadata": {},
   "source": [
    "There seem to be a few huge outliers in the Arrival Delay column, some flights are massively delayed and one flight is more than 8 hours too early."
   ]
  },
  {
   "cell_type": "markdown",
   "metadata": {},
   "source": [
    "After the interesting findings from above I will now have a look at the flights which are actually delayed (defined as delay >15mins)"
   ]
  },
  {
   "cell_type": "code",
   "execution_count": 14,
   "metadata": {},
   "outputs": [
    {
     "data": {
      "image/png": "[encoded data removed]",
      "text/plain": [
       "<Figure size 432x288 with 1 Axes>"
      ]
     },
     "metadata": {
      "needs_background": "light"
     },
     "output_type": "display_data"
    }
   ],
   "source": [
    "bins = np.arange(15, 2500, 1)\n",
    "\n",
    "plt.hist(data = flights_clean, x = 'ArrDelay', bins = bins)\n",
    "plt.xlim(15, 2500);"
   ]
  },
  {
   "cell_type": "markdown",
   "metadata": {},
   "source": [
    "Due to the huge outliers the chart is not very clear so I will once again define the limits"
   ]
  },
  {
   "cell_type": "code",
   "execution_count": 15,
   "metadata": {},
   "outputs": [
    {
     "data": {
      "image/png": "[encoded data removed]",
      "text/plain": [
       "<Figure size 432x288 with 1 Axes>"
      ]
     },
     "metadata": {
      "needs_background": "light"
     },
     "output_type": "display_data"
    }
   ],
   "source": [
    "bins = np.arange(15, 200, 1)\n",
    "\n",
    "plt.hist(data = flights_clean, x = 'ArrDelay', bins = bins)\n",
    "plt.xlim(15, 200);"
   ]
  },
  {
   "cell_type": "markdown",
   "metadata": {},
   "source": [
    "The distribution looks like negatively exponential"
   ]
  },
  {
   "cell_type": "markdown",
   "metadata": {},
   "source": [
    "Next I will have a look at the first predictor variable of interest: Carrier."
   ]
  },
  {
   "cell_type": "code",
   "execution_count": 16,
   "metadata": {},
   "outputs": [
    {
     "data": {
      "image/png": "[encoded data removed]",
      "text/plain": [
       "<Figure size 432x288 with 1 Axes>"
      ]
     },
     "metadata": {
      "needs_background": "light"
     },
     "output_type": "display_data"
    }
   ],
   "source": [
    "default_color = sb.color_palette()[0]\n",
    "sb.countplot(data = flights_clean, x = 'UniqueCarrier', color = default_color)\n",
    "plt.show()"
   ]
  },
  {
   "cell_type": "code",
   "execution_count": 17,
   "metadata": {},
   "outputs": [
    {
     "data": {
      "image/png": "[encoded data removed]",
      "text/plain": [
       "<Figure size 432x288 with 1 Axes>"
      ]
     },
     "metadata": {
      "needs_background": "light"
     },
     "output_type": "display_data"
    }
   ],
   "source": [
    "#just plotting the same chart in a different way\n",
    "pd.value_counts(flights_clean['UniqueCarrier'].values, sort=True).plot.bar();"
   ]
  },
  {
   "cell_type": "markdown",
   "metadata": {},
   "source": [
    "Obviously Southwestern (WN) has by far the most flights in the dataset, counting double the number of flights from the second biggest airline in the dataset (American Airlines)"
   ]
  },
  {
   "cell_type": "markdown",
   "metadata": {},
   "source": [
    "Another variable I want to look at is the Origin of the flights"
   ]
  },
  {
   "cell_type": "code",
   "execution_count": 18,
   "metadata": {},
   "outputs": [
    {
     "data": {
      "image/png": "[encoded data removed]",
      "text/plain": [
       "<Figure size 432x288 with 1 Axes>"
      ]
     },
     "metadata": {
      "needs_background": "light"
     },
     "output_type": "display_data"
    }
   ],
   "source": [
    "default_color = sb.color_palette()[0]\n",
    "sb.countplot(data = flights_clean, x = 'Origin', color = default_color)\n",
    "plt.show()"
   ]
  },
  {
   "cell_type": "markdown",
   "metadata": {},
   "source": [
    "Due to the huge number of airports I will look at the top 10 only. Therefore I will wrangle my dataset a little bit"
   ]
  },
  {
   "cell_type": "code",
   "execution_count": 19,
   "metadata": {},
   "outputs": [],
   "source": [
    "airports = flights_clean.groupby(['Origin']).Origin.value_counts().nlargest(10)\n",
    "airports = pd.DataFrame(airports)\n",
    "airports.reset_index(level=1, drop=True, inplace=True)"
   ]
  },
  {
   "cell_type": "code",
   "execution_count": 20,
   "metadata": {},
   "outputs": [
    {
     "data": {
      "image/png": "[encoded data removed]",
      "text/plain": [
       "<Figure size 432x288 with 1 Axes>"
      ]
     },
     "metadata": {
      "needs_background": "light"
     },
     "output_type": "display_data"
    }
   ],
   "source": [
    "airports.plot.bar();"
   ]
  },
  {
   "cell_type": "markdown",
   "metadata": {},
   "source": [
    "The biggest airport is Atlanta, followed by Orlando and Dallas. I will check later if the size of the airport has any influence on the average delay times."
   ]
  },
  {
   "cell_type": "markdown",
   "metadata": {},
   "source": [
    "Next I will look at the different categories of delay"
   ]
  },
  {
   "cell_type": "code",
   "execution_count": 21,
   "metadata": {},
   "outputs": [
    {
     "name": "stdout",
     "output_type": "stream",
     "text": [
      "2436.0\n",
      "1352.0\n",
      "1357.0\n",
      "392.0\n",
      "1316.0\n"
     ]
    }
   ],
   "source": [
    "print(flights_clean.CarrierDelay.max())\n",
    "print(flights_clean.WeatherDelay.max())\n",
    "print(flights_clean.NASDelay.max())\n",
    "print(flights_clean.SecurityDelay.max())\n",
    "print(flights_clean.LateAircraftDelay.max())"
   ]
  },
  {
   "cell_type": "code",
   "execution_count": 22,
   "metadata": {},
   "outputs": [
    {
     "data": {
      "image/png": "[encoded data removed]",
      "text/plain": [
       "<Figure size 1080x576 with 5 Axes>"
      ]
     },
     "metadata": {
      "needs_background": "light"
     },
     "output_type": "display_data"
    }
   ],
   "source": [
    "fig, ax = plt.subplots(nrows=5, figsize = [15,8])\n",
    "\n",
    "variables = ['CarrierDelay', 'WeatherDelay', 'NASDelay', 'SecurityDelay', 'LateAircraftDelay']\n",
    "for i in range(len(variables)):\n",
    "    var = variables[i]\n",
    "    bins = np.arange(15, 250, 1) # I cut the long tail and started at 15mins delay\n",
    "    ax[i].hist(data = flights_clean, x = var, bins = bins)\n",
    "\n",
    "plt.show()"
   ]
  },
  {
   "cell_type": "markdown",
   "metadata": {},
   "source": [
    "Overall the distributions look pretty similar for all delay categories. They look all negatively exponential with long tails to the right.<br>\n",
    "The longest delays are caused by weather conditions, followed by late aircraft and carrier issues. Interestingly security issues caused the shortest delays and are by far the least common causes for delay. Most short delays are caused by NAS issues.<br>"
   ]
  },
  {
   "cell_type": "markdown",
   "metadata": {},
   "source": [
    "To put the delays into perspective to each other I will adjust the y-axis"
   ]
  },
  {
   "cell_type": "code",
   "execution_count": 23,
   "metadata": {},
   "outputs": [
    {
     "data": {
      "image/png": "[encoded data removed]",
      "text/plain": [
       "<Figure size 1080x576 with 5 Axes>"
      ]
     },
     "metadata": {
      "needs_background": "light"
     },
     "output_type": "display_data"
    }
   ],
   "source": [
    "fig, ax = plt.subplots(nrows=5, figsize = [15,8])\n",
    "\n",
    "variables = ['CarrierDelay', 'WeatherDelay', 'NASDelay', 'SecurityDelay', 'LateAircraftDelay']\n",
    "for i in range(len(variables)):\n",
    "    var = variables[i]\n",
    "    bins = np.arange(15, 250, 1) # I cut the long tail and started at 15mins delay\n",
    "    ax[i].set_ylim(0, 40000)\n",
    "    ax[i].hist(data = flights_clean, x = var, bins = bins)\n",
    "\n",
    "plt.show()"
   ]
  },
  {
   "cell_type": "markdown",
   "metadata": {},
   "source": [
    "This chart makes it very clear that LateAircraftDelay, NASDelay and CarrierDelay are much more common than WeatherDelay and SecurityDelay."
   ]
  },
  {
   "cell_type": "code",
   "execution_count": 24,
   "metadata": {},
   "outputs": [
    {
     "name": "stdout",
     "output_type": "stream",
     "text": [
      "15.772063342154539\n",
      "3.039031044738922\n",
      "17.16462270492905\n",
      "0.07497433980331009\n",
      "20.770981186894772\n"
     ]
    }
   ],
   "source": [
    "print(flights_clean.CarrierDelay.mean())\n",
    "print(flights_clean.WeatherDelay.mean())\n",
    "print(flights_clean.NASDelay.mean())\n",
    "print(flights_clean.SecurityDelay.mean())\n",
    "print(flights_clean.LateAircraftDelay.mean())"
   ]
  },
  {
   "cell_type": "markdown",
   "metadata": {},
   "source": [
    "Just for training purposes I will transform the charts to a log scale even though it does not make a lot of sense :-)"
   ]
  },
  {
   "cell_type": "code",
   "execution_count": 25,
   "metadata": {},
   "outputs": [
    {
     "data": {
      "image/png": "[encoded data removed]",
      "text/plain": [
       "<Figure size 1080x576 with 5 Axes>"
      ]
     },
     "metadata": {
      "needs_background": "light"
     },
     "output_type": "display_data"
    }
   ],
   "source": [
    "fig, ax = plt.subplots(nrows=5, figsize = [15,8])\n",
    "\n",
    "variables = ['CarrierDelay', 'WeatherDelay', 'NASDelay', 'SecurityDelay', 'LateAircraftDelay']\n",
    "for i in range(len(variables)):\n",
    "    var = variables[i]\n",
    "    log_binsize = 0.1\n",
    "    bins = 10 ** np.arange(1, np.log10(flights_clean[var].max())+log_binsize, log_binsize)\n",
    "    ax[i].hist(data = flights_clean, x = var, bins = bins)\n"
   ]
  },
  {
   "cell_type": "markdown",
   "metadata": {},
   "source": [
    "Now I will have a look at the distribution of delay causes. Therefore I will create a new column in my dataset. Note that flights with a delay <15 mins are officially not considered delayed."
   ]
  },
  {
   "cell_type": "code",
   "execution_count": 26,
   "metadata": {},
   "outputs": [],
   "source": [
    "for dataset in flights_clean:\n",
    "    flights_clean.loc[flights_clean['CarrierDelay'] >= 15, 'DelayCause'] = 'C'\n",
    "    flights_clean.loc[flights_clean['WeatherDelay'] >= 15, 'DelayCause'] = 'W'\n",
    "    flights_clean.loc[flights_clean['NASDelay'] >= 15, 'DelayCause'] = 'N'\n",
    "    flights_clean.loc[flights_clean['SecurityDelay'] >= 15, 'DelayCause'] = 'S'\n",
    "    flights_clean.loc[flights_clean['LateAircraftDelay'] >= 15, 'DelayCause'] = 'L'"
   ]
  },
  {
   "cell_type": "code",
   "execution_count": 27,
   "metadata": {},
   "outputs": [
    {
     "data": {
      "image/png": "[encoded data removed]",
      "text/plain": [
       "<Figure size 432x288 with 1 Axes>"
      ]
     },
     "metadata": {},
     "output_type": "display_data"
    }
   ],
   "source": [
    "fig, ax = plt.subplots()\n",
    "\n",
    "values = flights_clean['DelayCause'].value_counts()\n",
    "labels = ['Late Aircraft', 'NAS', 'Carrier', 'Weather', 'Security']\n",
    "\n",
    "ax.pie(values, labels=labels, autopct='%1.1f%%')\n",
    "ax.axis('equal')\n",
    "\n",
    "fig.tight_layout()\n",
    "plt.draw()"
   ]
  },
  {
   "cell_type": "markdown",
   "metadata": {},
   "source": [
    "Most delays are due to late aircraft and reasons caused by the NAS. Only a tiny fraction of delays are caused by Security issues. As found by the previous plot, the longest delays are caused by weather conditions, but only 2.8% of all delays are due to weather."
   ]
  },
  {
   "cell_type": "markdown",
   "metadata": {},
   "source": [
    "### Discuss the distribution(s) of your variable(s) of interest. Were there any unusual points? Did you need to perform any transformations?\n",
    "\n",
    "The arrival delay is distributed over a very long range of values. It is nearly normally distributed just a litte squeezed. Interestingly most flights are not delayed, they are rather ahead of schedule.\n",
    "\n",
    "Out of the causes for delays, Late Aircraft causes the most delays, followed by NAS issues and Carrier issues. On the other hand the longest delays on average are caused by weather, followed by NAS issues.\n",
    "\n",
    "The number of flights looks like a negative exponential distribution with one airline having the lions share of flights: Southwestern is #1 on the list, having double the flights from American Airlines which is #2 on the list.\n",
    "\n",
    "The distribution of flights by airport did not show any obvious outliers.\n",
    "\n",
    "### Of the features you investigated, were there any unusual distributions? Did you perform any operations on the data to tidy, adjust, or change the form of the data? If so, why did you do this?\n",
    "\n",
    "Investigating the causes of delay showed that the main reaseon of delay is Late Aircraft and NAS reasons. Security delays cause only 0.2% of all delays and these delays are the shortest delays on average. Wethaer conditions causes the longest average delays but is responsible for only 2.8% of the delays.\n",
    "All delay categories have some very big outliers."
   ]
  },
  {
   "cell_type": "code",
   "execution_count": null,
   "metadata": {},
   "outputs": [],
   "source": []
  },
  {
   "cell_type": "markdown",
   "metadata": {},
   "source": [
    "## Bivariate Exploration"
   ]
  },
  {
   "cell_type": "markdown",
   "metadata": {},
   "source": [
    "To start off with, I want to look at the pairwise correlations present between features in the data."
   ]
  },
  {
   "cell_type": "code",
   "execution_count": 28,
   "metadata": {},
   "outputs": [
    {
     "data": {
      "image/png": "[encoded data removed]",
      "text/plain": [
       "<Figure size 576x360 with 2 Axes>"
      ]
     },
     "metadata": {
      "needs_background": "light"
     },
     "output_type": "display_data"
    }
   ],
   "source": [
    "numeric_vars = ['CarrierDelay', 'WeatherDelay', 'NASDelay', 'SecurityDelay', 'LateAircraftDelay', 'ArrDelay', 'DepDelay', 'Month']\n",
    "\n",
    "plt.figure(figsize = [8, 5])\n",
    "sb.heatmap(flights_clean[numeric_vars].corr(), annot = True, fmt = '.3f',\n",
    "           cmap = 'vlag_r', center = 0)\n",
    "plt.show()"
   ]
  },
  {
   "cell_type": "markdown",
   "metadata": {},
   "source": [
    "It seems like the numeric variables in this dataset have only weak correlations, which is a little bit surprising. I expected at least some correlation between the delay causes and ArrDelay and DepDelay. The only strong correlation is between Departure and Arrival Delay. (Which was somehow expected)"
   ]
  },
  {
   "cell_type": "markdown",
   "metadata": {},
   "source": [
    "Now I want to have a closer look at the correlation between Departure and Arrival Delay"
   ]
  },
  {
   "cell_type": "code",
   "execution_count": 29,
   "metadata": {},
   "outputs": [
    {
     "data": {
      "image/png": "[encoded data removed]",
      "text/plain": [
       "<Figure size 432x288 with 1 Axes>"
      ]
     },
     "metadata": {
      "needs_background": "light"
     },
     "output_type": "display_data"
    }
   ],
   "source": [
    "plt.scatter(data = flights_clean, x = 'ArrDelay', y = 'DepDelay', alpha = 1/5);"
   ]
  },
  {
   "cell_type": "markdown",
   "metadata": {},
   "source": [
    "The correlation between DepDelay and ArrDelay is very strong (as expected). Also it is obvious that a Departure Delay can be compensated during the flight in many cases. There are also two extreme outliers: One delay with over 40h on departure (and arrival) and one flight with a high negative delay time."
   ]
  },
  {
   "cell_type": "markdown",
   "metadata": {},
   "source": [
    "Next I will check the average delay over time. To do so I will wrangle my data to get the mean for the delay per for every month."
   ]
  },
  {
   "cell_type": "code",
   "execution_count": 30,
   "metadata": {},
   "outputs": [
    {
     "data": {
      "text/html": [
       "<div>\n",
       "<style scoped>\n",
       "    .dataframe tbody tr th:only-of-type {\n",
       "        vertical-align: middle;\n",
       "    }\n",
       "\n",
       "    .dataframe tbody tr th {\n",
       "        vertical-align: top;\n",
       "    }\n",
       "\n",
       "    .dataframe thead th {\n",
       "        text-align: right;\n",
       "    }\n",
       "</style>\n",
       "<table border=\"1\" class=\"dataframe\">\n",
       "  <thead>\n",
       "    <tr style=\"text-align: right;\">\n",
       "      <th></th>\n",
       "      <th>Year</th>\n",
       "      <th>DayofMonth</th>\n",
       "      <th>DayOfWeek</th>\n",
       "      <th>DepTime</th>\n",
       "      <th>CRSDepTime</th>\n",
       "      <th>ArrTime</th>\n",
       "      <th>CRSArrTime</th>\n",
       "      <th>FlightNum</th>\n",
       "      <th>ActualElapsedTime</th>\n",
       "      <th>CRSElapsedTime</th>\n",
       "      <th>...</th>\n",
       "      <th>TaxiOut</th>\n",
       "      <th>Cancelled</th>\n",
       "      <th>Diverted</th>\n",
       "      <th>CarrierDelay</th>\n",
       "      <th>WeatherDelay</th>\n",
       "      <th>NASDelay</th>\n",
       "      <th>SecurityDelay</th>\n",
       "      <th>LateAircraftDelay</th>\n",
       "      <th>Count</th>\n",
       "      <th>Delay</th>\n",
       "    </tr>\n",
       "    <tr>\n",
       "      <th>Month</th>\n",
       "      <th></th>\n",
       "      <th></th>\n",
       "      <th></th>\n",
       "      <th></th>\n",
       "      <th></th>\n",
       "      <th></th>\n",
       "      <th></th>\n",
       "      <th></th>\n",
       "      <th></th>\n",
       "      <th></th>\n",
       "      <th></th>\n",
       "      <th></th>\n",
       "      <th></th>\n",
       "      <th></th>\n",
       "      <th></th>\n",
       "      <th></th>\n",
       "      <th></th>\n",
       "      <th></th>\n",
       "      <th></th>\n",
       "      <th></th>\n",
       "      <th></th>\n",
       "    </tr>\n",
       "  </thead>\n",
       "  <tbody>\n",
       "    <tr>\n",
       "      <th>1</th>\n",
       "      <td>2008.0</td>\n",
       "      <td>15.908885</td>\n",
       "      <td>3.848879</td>\n",
       "      <td>1341.313469</td>\n",
       "      <td>1330.337020</td>\n",
       "      <td>1491.156790</td>\n",
       "      <td>1499.829660</td>\n",
       "      <td>2229.870511</td>\n",
       "      <td>128.296963</td>\n",
       "      <td>129.037922</td>\n",
       "      <td>...</td>\n",
       "      <td>16.797139</td>\n",
       "      <td>0.028572</td>\n",
       "      <td>0.002191</td>\n",
       "      <td>15.832279</td>\n",
       "      <td>2.888493</td>\n",
       "      <td>16.277326</td>\n",
       "      <td>0.086770</td>\n",
       "      <td>21.140054</td>\n",
       "      <td>1.0</td>\n",
       "      <td>1.0</td>\n",
       "    </tr>\n",
       "    <tr>\n",
       "      <th>2</th>\n",
       "      <td>2008.0</td>\n",
       "      <td>15.175955</td>\n",
       "      <td>3.963895</td>\n",
       "      <td>1343.662104</td>\n",
       "      <td>1330.898420</td>\n",
       "      <td>1487.516365</td>\n",
       "      <td>1498.166706</td>\n",
       "      <td>2230.515229</td>\n",
       "      <td>129.443717</td>\n",
       "      <td>129.520094</td>\n",
       "      <td>...</td>\n",
       "      <td>17.204890</td>\n",
       "      <td>0.036182</td>\n",
       "      <td>0.003013</td>\n",
       "      <td>15.350372</td>\n",
       "      <td>3.483976</td>\n",
       "      <td>16.466292</td>\n",
       "      <td>0.072716</td>\n",
       "      <td>22.371679</td>\n",
       "      <td>1.0</td>\n",
       "      <td>1.0</td>\n",
       "    </tr>\n",
       "    <tr>\n",
       "      <th>3</th>\n",
       "      <td>2008.0</td>\n",
       "      <td>16.046248</td>\n",
       "      <td>3.989399</td>\n",
       "      <td>1342.066950</td>\n",
       "      <td>1331.178305</td>\n",
       "      <td>1484.227229</td>\n",
       "      <td>1495.877190</td>\n",
       "      <td>2203.969508</td>\n",
       "      <td>129.636113</td>\n",
       "      <td>130.520187</td>\n",
       "      <td>...</td>\n",
       "      <td>16.576673</td>\n",
       "      <td>0.026267</td>\n",
       "      <td>0.002539</td>\n",
       "      <td>16.063386</td>\n",
       "      <td>3.016375</td>\n",
       "      <td>15.804366</td>\n",
       "      <td>0.096060</td>\n",
       "      <td>21.250829</td>\n",
       "      <td>1.0</td>\n",
       "      <td>1.0</td>\n",
       "    </tr>\n",
       "    <tr>\n",
       "      <th>4</th>\n",
       "      <td>2008.0</td>\n",
       "      <td>15.486157</td>\n",
       "      <td>3.837329</td>\n",
       "      <td>1333.228987</td>\n",
       "      <td>1327.559253</td>\n",
       "      <td>1480.582075</td>\n",
       "      <td>1493.157743</td>\n",
       "      <td>2192.093552</td>\n",
       "      <td>127.134764</td>\n",
       "      <td>128.408878</td>\n",
       "      <td>...</td>\n",
       "      <td>16.201354</td>\n",
       "      <td>0.017312</td>\n",
       "      <td>0.001752</td>\n",
       "      <td>15.771317</td>\n",
       "      <td>2.200280</td>\n",
       "      <td>16.076132</td>\n",
       "      <td>0.062577</td>\n",
       "      <td>18.640678</td>\n",
       "      <td>1.0</td>\n",
       "      <td>1.0</td>\n",
       "    </tr>\n",
       "    <tr>\n",
       "      <th>5</th>\n",
       "      <td>2008.0</td>\n",
       "      <td>15.927937</td>\n",
       "      <td>4.020917</td>\n",
       "      <td>1332.187572</td>\n",
       "      <td>1326.192806</td>\n",
       "      <td>1482.321906</td>\n",
       "      <td>1492.467210</td>\n",
       "      <td>2231.293175</td>\n",
       "      <td>126.873765</td>\n",
       "      <td>128.419069</td>\n",
       "      <td>...</td>\n",
       "      <td>15.851074</td>\n",
       "      <td>0.010274</td>\n",
       "      <td>0.001409</td>\n",
       "      <td>14.340201</td>\n",
       "      <td>1.998010</td>\n",
       "      <td>16.621472</td>\n",
       "      <td>0.081173</td>\n",
       "      <td>18.682583</td>\n",
       "      <td>1.0</td>\n",
       "      <td>1.0</td>\n",
       "    </tr>\n",
       "    <tr>\n",
       "      <th>6</th>\n",
       "      <td>2008.0</td>\n",
       "      <td>15.524878</td>\n",
       "      <td>3.946680</td>\n",
       "      <td>1338.665020</td>\n",
       "      <td>1330.095039</td>\n",
       "      <td>1466.740123</td>\n",
       "      <td>1492.480305</td>\n",
       "      <td>2255.214251</td>\n",
       "      <td>128.914464</td>\n",
       "      <td>129.046188</td>\n",
       "      <td>...</td>\n",
       "      <td>17.217195</td>\n",
       "      <td>0.017959</td>\n",
       "      <td>0.003739</td>\n",
       "      <td>15.111817</td>\n",
       "      <td>3.481261</td>\n",
       "      <td>19.645184</td>\n",
       "      <td>0.064617</td>\n",
       "      <td>21.798618</td>\n",
       "      <td>1.0</td>\n",
       "      <td>1.0</td>\n",
       "    </tr>\n",
       "    <tr>\n",
       "      <th>7</th>\n",
       "      <td>2008.0</td>\n",
       "      <td>16.134688</td>\n",
       "      <td>3.845200</td>\n",
       "      <td>1332.689114</td>\n",
       "      <td>1327.296902</td>\n",
       "      <td>1462.373181</td>\n",
       "      <td>1487.076628</td>\n",
       "      <td>2248.272323</td>\n",
       "      <td>128.034124</td>\n",
       "      <td>129.725404</td>\n",
       "      <td>...</td>\n",
       "      <td>16.850324</td>\n",
       "      <td>0.016878</td>\n",
       "      <td>0.003042</td>\n",
       "      <td>17.258815</td>\n",
       "      <td>3.968540</td>\n",
       "      <td>19.393338</td>\n",
       "      <td>0.093724</td>\n",
       "      <td>21.869989</td>\n",
       "      <td>1.0</td>\n",
       "      <td>1.0</td>\n",
       "    </tr>\n",
       "    <tr>\n",
       "      <th>8</th>\n",
       "      <td>2008.0</td>\n",
       "      <td>15.698915</td>\n",
       "      <td>4.107118</td>\n",
       "      <td>1331.737391</td>\n",
       "      <td>1325.865128</td>\n",
       "      <td>1471.523854</td>\n",
       "      <td>1487.864263</td>\n",
       "      <td>2223.263805</td>\n",
       "      <td>127.036380</td>\n",
       "      <td>129.641285</td>\n",
       "      <td>...</td>\n",
       "      <td>16.342432</td>\n",
       "      <td>0.016063</td>\n",
       "      <td>0.002767</td>\n",
       "      <td>17.683983</td>\n",
       "      <td>3.310945</td>\n",
       "      <td>17.170741</td>\n",
       "      <td>0.061537</td>\n",
       "      <td>20.670662</td>\n",
       "      <td>1.0</td>\n",
       "      <td>1.0</td>\n",
       "    </tr>\n",
       "    <tr>\n",
       "      <th>9</th>\n",
       "      <td>2008.0</td>\n",
       "      <td>15.403644</td>\n",
       "      <td>3.752562</td>\n",
       "      <td>1324.077488</td>\n",
       "      <td>1321.160399</td>\n",
       "      <td>1488.831837</td>\n",
       "      <td>1496.589422</td>\n",
       "      <td>2154.273303</td>\n",
       "      <td>123.226791</td>\n",
       "      <td>126.307087</td>\n",
       "      <td>...</td>\n",
       "      <td>15.628855</td>\n",
       "      <td>0.018327</td>\n",
       "      <td>0.001329</td>\n",
       "      <td>17.128674</td>\n",
       "      <td>2.207087</td>\n",
       "      <td>16.549621</td>\n",
       "      <td>0.067787</td>\n",
       "      <td>15.121941</td>\n",
       "      <td>1.0</td>\n",
       "      <td>1.0</td>\n",
       "    </tr>\n",
       "    <tr>\n",
       "      <th>10</th>\n",
       "      <td>2008.0</td>\n",
       "      <td>16.036742</td>\n",
       "      <td>3.929754</td>\n",
       "      <td>1322.547751</td>\n",
       "      <td>1319.674025</td>\n",
       "      <td>1487.353188</td>\n",
       "      <td>1494.821122</td>\n",
       "      <td>2181.523701</td>\n",
       "      <td>123.354732</td>\n",
       "      <td>126.641672</td>\n",
       "      <td>...</td>\n",
       "      <td>15.445105</td>\n",
       "      <td>0.005841</td>\n",
       "      <td>0.001591</td>\n",
       "      <td>15.575364</td>\n",
       "      <td>1.429492</td>\n",
       "      <td>14.994954</td>\n",
       "      <td>0.071888</td>\n",
       "      <td>15.631691</td>\n",
       "      <td>1.0</td>\n",
       "      <td>1.0</td>\n",
       "    </tr>\n",
       "    <tr>\n",
       "      <th>11</th>\n",
       "      <td>2008.0</td>\n",
       "      <td>15.382667</td>\n",
       "      <td>4.088851</td>\n",
       "      <td>1323.959152</td>\n",
       "      <td>1320.021429</td>\n",
       "      <td>1488.938283</td>\n",
       "      <td>1500.640223</td>\n",
       "      <td>2260.781920</td>\n",
       "      <td>125.598213</td>\n",
       "      <td>128.830585</td>\n",
       "      <td>...</td>\n",
       "      <td>15.836703</td>\n",
       "      <td>0.008519</td>\n",
       "      <td>0.001607</td>\n",
       "      <td>13.695650</td>\n",
       "      <td>1.702131</td>\n",
       "      <td>18.650619</td>\n",
       "      <td>0.049889</td>\n",
       "      <td>18.617331</td>\n",
       "      <td>1.0</td>\n",
       "      <td>1.0</td>\n",
       "    </tr>\n",
       "    <tr>\n",
       "      <th>12</th>\n",
       "      <td>2008.0</td>\n",
       "      <td>15.916329</td>\n",
       "      <td>3.747259</td>\n",
       "      <td>1338.030504</td>\n",
       "      <td>1320.468416</td>\n",
       "      <td>1487.897613</td>\n",
       "      <td>1500.764518</td>\n",
       "      <td>2278.032404</td>\n",
       "      <td>129.806295</td>\n",
       "      <td>129.912476</td>\n",
       "      <td>...</td>\n",
       "      <td>17.400130</td>\n",
       "      <td>0.032625</td>\n",
       "      <td>0.004463</td>\n",
       "      <td>15.422806</td>\n",
       "      <td>4.435057</td>\n",
       "      <td>17.251395</td>\n",
       "      <td>0.072228</td>\n",
       "      <td>25.373235</td>\n",
       "      <td>1.0</td>\n",
       "      <td>1.0</td>\n",
       "    </tr>\n",
       "  </tbody>\n",
       "</table>\n",
       "<p>12 rows × 25 columns</p>\n",
       "</div>"
      ],
      "text/plain": [
       "         Year  DayofMonth  DayOfWeek      DepTime   CRSDepTime      ArrTime  \\\n",
       "Month                                                                         \n",
       "1      2008.0   15.908885   3.848879  1341.313469  1330.337020  1491.156790   \n",
       "2      2008.0   15.175955   3.963895  1343.662104  1330.898420  1487.516365   \n",
       "3      2008.0   16.046248   3.989399  1342.066950  1331.178305  1484.227229   \n",
       "4      2008.0   15.486157   3.837329  1333.228987  1327.559253  1480.582075   \n",
       "5      2008.0   15.927937   4.020917  1332.187572  1326.192806  1482.321906   \n",
       "6      2008.0   15.524878   3.946680  1338.665020  1330.095039  1466.740123   \n",
       "7      2008.0   16.134688   3.845200  1332.689114  1327.296902  1462.373181   \n",
       "8      2008.0   15.698915   4.107118  1331.737391  1325.865128  1471.523854   \n",
       "9      2008.0   15.403644   3.752562  1324.077488  1321.160399  1488.831837   \n",
       "10     2008.0   16.036742   3.929754  1322.547751  1319.674025  1487.353188   \n",
       "11     2008.0   15.382667   4.088851  1323.959152  1320.021429  1488.938283   \n",
       "12     2008.0   15.916329   3.747259  1338.030504  1320.468416  1487.897613   \n",
       "\n",
       "        CRSArrTime    FlightNum  ActualElapsedTime  CRSElapsedTime  ...    \\\n",
       "Month                                                               ...     \n",
       "1      1499.829660  2229.870511         128.296963      129.037922  ...     \n",
       "2      1498.166706  2230.515229         129.443717      129.520094  ...     \n",
       "3      1495.877190  2203.969508         129.636113      130.520187  ...     \n",
       "4      1493.157743  2192.093552         127.134764      128.408878  ...     \n",
       "5      1492.467210  2231.293175         126.873765      128.419069  ...     \n",
       "6      1492.480305  2255.214251         128.914464      129.046188  ...     \n",
       "7      1487.076628  2248.272323         128.034124      129.725404  ...     \n",
       "8      1487.864263  2223.263805         127.036380      129.641285  ...     \n",
       "9      1496.589422  2154.273303         123.226791      126.307087  ...     \n",
       "10     1494.821122  2181.523701         123.354732      126.641672  ...     \n",
       "11     1500.640223  2260.781920         125.598213      128.830585  ...     \n",
       "12     1500.764518  2278.032404         129.806295      129.912476  ...     \n",
       "\n",
       "         TaxiOut  Cancelled  Diverted  CarrierDelay  WeatherDelay   NASDelay  \\\n",
       "Month                                                                          \n",
       "1      16.797139   0.028572  0.002191     15.832279      2.888493  16.277326   \n",
       "2      17.204890   0.036182  0.003013     15.350372      3.483976  16.466292   \n",
       "3      16.576673   0.026267  0.002539     16.063386      3.016375  15.804366   \n",
       "4      16.201354   0.017312  0.001752     15.771317      2.200280  16.076132   \n",
       "5      15.851074   0.010274  0.001409     14.340201      1.998010  16.621472   \n",
       "6      17.217195   0.017959  0.003739     15.111817      3.481261  19.645184   \n",
       "7      16.850324   0.016878  0.003042     17.258815      3.968540  19.393338   \n",
       "8      16.342432   0.016063  0.002767     17.683983      3.310945  17.170741   \n",
       "9      15.628855   0.018327  0.001329     17.128674      2.207087  16.549621   \n",
       "10     15.445105   0.005841  0.001591     15.575364      1.429492  14.994954   \n",
       "11     15.836703   0.008519  0.001607     13.695650      1.702131  18.650619   \n",
       "12     17.400130   0.032625  0.004463     15.422806      4.435057  17.251395   \n",
       "\n",
       "       SecurityDelay  LateAircraftDelay  Count  Delay  \n",
       "Month                                                  \n",
       "1           0.086770          21.140054    1.0    1.0  \n",
       "2           0.072716          22.371679    1.0    1.0  \n",
       "3           0.096060          21.250829    1.0    1.0  \n",
       "4           0.062577          18.640678    1.0    1.0  \n",
       "5           0.081173          18.682583    1.0    1.0  \n",
       "6           0.064617          21.798618    1.0    1.0  \n",
       "7           0.093724          21.869989    1.0    1.0  \n",
       "8           0.061537          20.670662    1.0    1.0  \n",
       "9           0.067787          15.121941    1.0    1.0  \n",
       "10          0.071888          15.631691    1.0    1.0  \n",
       "11          0.049889          18.617331    1.0    1.0  \n",
       "12          0.072228          25.373235    1.0    1.0  \n",
       "\n",
       "[12 rows x 25 columns]"
      ]
     },
     "execution_count": 30,
     "metadata": {},
     "output_type": "execute_result"
    }
   ],
   "source": [
    "months_mean = flights_clean.groupby(['Month']).mean()\n",
    "months_mean"
   ]
  },
  {
   "cell_type": "code",
   "execution_count": 31,
   "metadata": {},
   "outputs": [
    {
     "data": {
      "image/png": "[encoded data removed]",
      "text/plain": [
       "<Figure size 432x288 with 1 Axes>"
      ]
     },
     "metadata": {
      "needs_background": "light"
     },
     "output_type": "display_data"
    }
   ],
   "source": [
    "months_mean[['ArrDelay']].plot(kind='line');"
   ]
  },
  {
   "cell_type": "code",
   "execution_count": 32,
   "metadata": {},
   "outputs": [
    {
     "data": {
      "image/png": "[encoded data removed]",
      "text/plain": [
       "<Figure size 432x288 with 1 Axes>"
      ]
     },
     "metadata": {
      "needs_background": "light"
     },
     "output_type": "display_data"
    }
   ],
   "source": [
    "months_mean[['DepDelay']].plot(kind='line');"
   ]
  },
  {
   "cell_type": "markdown",
   "metadata": {},
   "source": [
    "As seen in the prevoius charts, there is a strong correlation between Departure and Arrival Delay. This becomes even more obvious in these two charts since the average delay over the months are pretty much the same.<br>\n",
    "The highest average delay is in December, followed by February and June."
   ]
  },
  {
   "cell_type": "code",
   "execution_count": 33,
   "metadata": {},
   "outputs": [
    {
     "data": {
      "image/png": "[encoded data removed]",
      "text/plain": [
       "<Figure size 432x288 with 1 Axes>"
      ]
     },
     "metadata": {
      "needs_background": "light"
     },
     "output_type": "display_data"
    }
   ],
   "source": [
    "months_mean[['CarrierDelay']].plot(kind='line');"
   ]
  },
  {
   "cell_type": "code",
   "execution_count": 34,
   "metadata": {},
   "outputs": [
    {
     "data": {
      "image/png": "[encoded data removed]",
      "text/plain": [
       "<Figure size 432x288 with 1 Axes>"
      ]
     },
     "metadata": {
      "needs_background": "light"
     },
     "output_type": "display_data"
    }
   ],
   "source": [
    "months_mean[['WeatherDelay']].plot(kind='line');"
   ]
  },
  {
   "cell_type": "code",
   "execution_count": 35,
   "metadata": {},
   "outputs": [
    {
     "data": {
      "image/png": "[encoded data removed]",
      "text/plain": [
       "<Figure size 432x288 with 1 Axes>"
      ]
     },
     "metadata": {
      "needs_background": "light"
     },
     "output_type": "display_data"
    }
   ],
   "source": [
    "months_mean[['NASDelay']].plot(kind='line');"
   ]
  },
  {
   "cell_type": "code",
   "execution_count": 36,
   "metadata": {},
   "outputs": [
    {
     "data": {
      "image/png": "[encoded data removed]",
      "text/plain": [
       "<Figure size 432x288 with 1 Axes>"
      ]
     },
     "metadata": {
      "needs_background": "light"
     },
     "output_type": "display_data"
    }
   ],
   "source": [
    "months_mean[['SecurityDelay']].plot(kind='line');"
   ]
  },
  {
   "cell_type": "code",
   "execution_count": 37,
   "metadata": {},
   "outputs": [
    {
     "data": {
      "image/png": "[encoded data removed]",
      "text/plain": [
       "<Figure size 432x288 with 1 Axes>"
      ]
     },
     "metadata": {
      "needs_background": "light"
     },
     "output_type": "display_data"
    }
   ],
   "source": [
    "months_mean[['LateAircraftDelay']].plot(kind='line');"
   ]
  },
  {
   "cell_type": "markdown",
   "metadata": {},
   "source": [
    "Except for the Security Delay line all lines look more or less like the overall Departure and Arrival Delay lines.\n",
    "Due to the high impact on the overall delay the line of the average Late Aircraft Delay looks most similar to the overall Arrival And Departure delay line."
   ]
  },
  {
   "cell_type": "markdown",
   "metadata": {},
   "source": [
    "Now I want to have a look at all delay causes over time together. To do this I will again wrangle my data a little bit."
   ]
  },
  {
   "cell_type": "code",
   "execution_count": 38,
   "metadata": {},
   "outputs": [
    {
     "data": {
      "text/html": [
       "<div>\n",
       "<style scoped>\n",
       "    .dataframe tbody tr th:only-of-type {\n",
       "        vertical-align: middle;\n",
       "    }\n",
       "\n",
       "    .dataframe tbody tr th {\n",
       "        vertical-align: top;\n",
       "    }\n",
       "\n",
       "    .dataframe thead th {\n",
       "        text-align: right;\n",
       "    }\n",
       "</style>\n",
       "<table border=\"1\" class=\"dataframe\">\n",
       "  <thead>\n",
       "    <tr style=\"text-align: right;\">\n",
       "      <th></th>\n",
       "      <th>Year</th>\n",
       "      <th>DayofMonth</th>\n",
       "      <th>DayOfWeek</th>\n",
       "      <th>DepTime</th>\n",
       "      <th>CRSDepTime</th>\n",
       "      <th>ArrTime</th>\n",
       "      <th>CRSArrTime</th>\n",
       "      <th>FlightNum</th>\n",
       "      <th>ActualElapsedTime</th>\n",
       "      <th>CRSElapsedTime</th>\n",
       "      <th>...</th>\n",
       "      <th>TaxiOut</th>\n",
       "      <th>Cancelled</th>\n",
       "      <th>Diverted</th>\n",
       "      <th>CarrierDelay</th>\n",
       "      <th>WeatherDelay</th>\n",
       "      <th>NASDelay</th>\n",
       "      <th>SecurityDelay</th>\n",
       "      <th>LateAircraftDelay</th>\n",
       "      <th>Count</th>\n",
       "      <th>Delay</th>\n",
       "    </tr>\n",
       "    <tr>\n",
       "      <th>Month</th>\n",
       "      <th></th>\n",
       "      <th></th>\n",
       "      <th></th>\n",
       "      <th></th>\n",
       "      <th></th>\n",
       "      <th></th>\n",
       "      <th></th>\n",
       "      <th></th>\n",
       "      <th></th>\n",
       "      <th></th>\n",
       "      <th></th>\n",
       "      <th></th>\n",
       "      <th></th>\n",
       "      <th></th>\n",
       "      <th></th>\n",
       "      <th></th>\n",
       "      <th></th>\n",
       "      <th></th>\n",
       "      <th></th>\n",
       "      <th></th>\n",
       "      <th></th>\n",
       "    </tr>\n",
       "  </thead>\n",
       "  <tbody>\n",
       "    <tr>\n",
       "      <th>1</th>\n",
       "      <td>1216376120</td>\n",
       "      <td>9637046</td>\n",
       "      <td>2331516</td>\n",
       "      <td>789305300.0</td>\n",
       "      <td>805871605</td>\n",
       "      <td>875502886.0</td>\n",
       "      <td>908544314</td>\n",
       "      <td>1350777510</td>\n",
       "      <td>75326996.0</td>\n",
       "      <td>78152979.0</td>\n",
       "      <td>...</td>\n",
       "      <td>9884394.0</td>\n",
       "      <td>17308</td>\n",
       "      <td>1327</td>\n",
       "      <td>2355954.0</td>\n",
       "      <td>429828.0</td>\n",
       "      <td>2422180.0</td>\n",
       "      <td>12912.0</td>\n",
       "      <td>3145788.0</td>\n",
       "      <td>605765</td>\n",
       "      <td>143175.0</td>\n",
       "    </tr>\n",
       "    <tr>\n",
       "      <th>2</th>\n",
       "      <td>1143025888</td>\n",
       "      <td>8638700</td>\n",
       "      <td>2256392</td>\n",
       "      <td>737186777.0</td>\n",
       "      <td>757595293</td>\n",
       "      <td>813559888.0</td>\n",
       "      <td>852810423</td>\n",
       "      <td>1269689567</td>\n",
       "      <td>70796005.0</td>\n",
       "      <td>73716232.0</td>\n",
       "      <td>...</td>\n",
       "      <td>9439291.0</td>\n",
       "      <td>20596</td>\n",
       "      <td>1715</td>\n",
       "      <td>2398296.0</td>\n",
       "      <td>544326.0</td>\n",
       "      <td>2572644.0</td>\n",
       "      <td>11361.0</td>\n",
       "      <td>3495284.0</td>\n",
       "      <td>569236</td>\n",
       "      <td>150684.0</td>\n",
       "    </tr>\n",
       "    <tr>\n",
       "      <th>3</th>\n",
       "      <td>1237108720</td>\n",
       "      <td>9885933</td>\n",
       "      <td>2457829</td>\n",
       "      <td>805115358.0</td>\n",
       "      <td>820125642</td>\n",
       "      <td>888076973.0</td>\n",
       "      <td>921594978</td>\n",
       "      <td>1357843574</td>\n",
       "      <td>77566861.0</td>\n",
       "      <td>80398869.0</td>\n",
       "      <td>...</td>\n",
       "      <td>9944462.0</td>\n",
       "      <td>16183</td>\n",
       "      <td>1564</td>\n",
       "      <td>2527895.0</td>\n",
       "      <td>474687.0</td>\n",
       "      <td>2487133.0</td>\n",
       "      <td>15117.0</td>\n",
       "      <td>3344243.0</td>\n",
       "      <td>616090</td>\n",
       "      <td>151506.0</td>\n",
       "    </tr>\n",
       "    <tr>\n",
       "      <th>4</th>\n",
       "      <td>1201037008</td>\n",
       "      <td>9262673</td>\n",
       "      <td>2295206</td>\n",
       "      <td>783633335.0</td>\n",
       "      <td>794047706</td>\n",
       "      <td>868691557.0</td>\n",
       "      <td>893096468</td>\n",
       "      <td>1311148148</td>\n",
       "      <td>74592890.0</td>\n",
       "      <td>76790307.0</td>\n",
       "      <td>...</td>\n",
       "      <td>9522686.0</td>\n",
       "      <td>10355</td>\n",
       "      <td>1048</td>\n",
       "      <td>1926766.0</td>\n",
       "      <td>268806.0</td>\n",
       "      <td>1964005.0</td>\n",
       "      <td>7645.0</td>\n",
       "      <td>2277313.0</td>\n",
       "      <td>598126</td>\n",
       "      <td>117013.0</td>\n",
       "    </tr>\n",
       "    <tr>\n",
       "      <th>5</th>\n",
       "      <td>1217436344</td>\n",
       "      <td>9656997</td>\n",
       "      <td>2437854</td>\n",
       "      <td>799397803.0</td>\n",
       "      <td>804061415</td>\n",
       "      <td>888222109.0</td>\n",
       "      <td>904872422</td>\n",
       "      <td>1352817433</td>\n",
       "      <td>76024029.0</td>\n",
       "      <td>77852905.0</td>\n",
       "      <td>...</td>\n",
       "      <td>9511659.0</td>\n",
       "      <td>6229</td>\n",
       "      <td>854</td>\n",
       "      <td>1722631.0</td>\n",
       "      <td>240013.0</td>\n",
       "      <td>1996671.0</td>\n",
       "      <td>9751.0</td>\n",
       "      <td>2244264.0</td>\n",
       "      <td>606293</td>\n",
       "      <td>114885.0</td>\n",
       "    </tr>\n",
       "    <tr>\n",
       "      <th>6</th>\n",
       "      <td>1222199320</td>\n",
       "      <td>9449450</td>\n",
       "      <td>2402206</td>\n",
       "      <td>800165597.0</td>\n",
       "      <td>809582297</td>\n",
       "      <td>873382140.0</td>\n",
       "      <td>908420525</td>\n",
       "      <td>1372669982</td>\n",
       "      <td>76763149.0</td>\n",
       "      <td>78534542.0</td>\n",
       "      <td>...</td>\n",
       "      <td>10291303.0</td>\n",
       "      <td>10931</td>\n",
       "      <td>2276</td>\n",
       "      <td>2482267.0</td>\n",
       "      <td>571832.0</td>\n",
       "      <td>3226918.0</td>\n",
       "      <td>10614.0</td>\n",
       "      <td>3580641.0</td>\n",
       "      <td>608665</td>\n",
       "      <td>158675.0</td>\n",
       "    </tr>\n",
       "    <tr>\n",
       "      <th>7</th>\n",
       "      <td>1260885448</td>\n",
       "      <td>10131471</td>\n",
       "      <td>2414520</td>\n",
       "      <td>822712969.0</td>\n",
       "      <td>833450871</td>\n",
       "      <td>899978090.0</td>\n",
       "      <td>933781514</td>\n",
       "      <td>1411759888</td>\n",
       "      <td>78795145.0</td>\n",
       "      <td>81446019.0</td>\n",
       "      <td>...</td>\n",
       "      <td>10402261.0</td>\n",
       "      <td>10598</td>\n",
       "      <td>1910</td>\n",
       "      <td>2417097.0</td>\n",
       "      <td>555794.0</td>\n",
       "      <td>2716037.0</td>\n",
       "      <td>13126.0</td>\n",
       "      <td>3062892.0</td>\n",
       "      <td>627931</td>\n",
       "      <td>135156.0</td>\n",
       "    </tr>\n",
       "    <tr>\n",
       "      <th>8</th>\n",
       "      <td>1229456232</td>\n",
       "      <td>9612116</td>\n",
       "      <td>2514702</td>\n",
       "      <td>802297201.0</td>\n",
       "      <td>811799375</td>\n",
       "      <td>884017955.0</td>\n",
       "      <td>910988043</td>\n",
       "      <td>1361257739</td>\n",
       "      <td>76317105.0</td>\n",
       "      <td>79363283.0</td>\n",
       "      <td>...</td>\n",
       "      <td>9845400.0</td>\n",
       "      <td>9835</td>\n",
       "      <td>1694</td>\n",
       "      <td>2130584.0</td>\n",
       "      <td>398906.0</td>\n",
       "      <td>2068748.0</td>\n",
       "      <td>7414.0</td>\n",
       "      <td>2490422.0</td>\n",
       "      <td>612279</td>\n",
       "      <td>115950.0</td>\n",
       "    </tr>\n",
       "    <tr>\n",
       "      <th>9</th>\n",
       "      <td>1086143264</td>\n",
       "      <td>8331954</td>\n",
       "      <td>2029791</td>\n",
       "      <td>703078526.0</td>\n",
       "      <td>714626229</td>\n",
       "      <td>789491791.0</td>\n",
       "      <td>809517191</td>\n",
       "      <td>1165263664</td>\n",
       "      <td>65344210.0</td>\n",
       "      <td>68308262.0</td>\n",
       "      <td>...</td>\n",
       "      <td>8298844.0</td>\n",
       "      <td>9913</td>\n",
       "      <td>719</td>\n",
       "      <td>1218688.0</td>\n",
       "      <td>157032.0</td>\n",
       "      <td>1177489.0</td>\n",
       "      <td>4823.0</td>\n",
       "      <td>1075911.0</td>\n",
       "      <td>540908</td>\n",
       "      <td>67833.0</td>\n",
       "    </tr>\n",
       "    <tr>\n",
       "      <th>10</th>\n",
       "      <td>1116859640</td>\n",
       "      <td>8919716</td>\n",
       "      <td>2185749</td>\n",
       "      <td>731561998.0</td>\n",
       "      <td>734009291</td>\n",
       "      <td>822266849.0</td>\n",
       "      <td>831426982</td>\n",
       "      <td>1213374390</td>\n",
       "      <td>68100570.0</td>\n",
       "      <td>70438731.0</td>\n",
       "      <td>...</td>\n",
       "      <td>8541452.0</td>\n",
       "      <td>3249</td>\n",
       "      <td>885</td>\n",
       "      <td>1145054.0</td>\n",
       "      <td>105092.0</td>\n",
       "      <td>1102384.0</td>\n",
       "      <td>5285.0</td>\n",
       "      <td>1149195.0</td>\n",
       "      <td>556205</td>\n",
       "      <td>69693.0</td>\n",
       "    </tr>\n",
       "    <tr>\n",
       "      <th>11</th>\n",
       "      <td>1050730176</td>\n",
       "      <td>8049319</td>\n",
       "      <td>2139581</td>\n",
       "      <td>687220857.0</td>\n",
       "      <td>690730253</td>\n",
       "      <td>772202106.0</td>\n",
       "      <td>785243011</td>\n",
       "      <td>1183003877</td>\n",
       "      <td>65056483.0</td>\n",
       "      <td>67413438.0</td>\n",
       "      <td>...</td>\n",
       "      <td>8217491.0</td>\n",
       "      <td>4458</td>\n",
       "      <td>841</td>\n",
       "      <td>1121975.0</td>\n",
       "      <td>139442.0</td>\n",
       "      <td>1527896.0</td>\n",
       "      <td>4087.0</td>\n",
       "      <td>1525169.0</td>\n",
       "      <td>523272</td>\n",
       "      <td>78230.0</td>\n",
       "    </tr>\n",
       "    <tr>\n",
       "      <th>12</th>\n",
       "      <td>1094275664</td>\n",
       "      <td>8673731</td>\n",
       "      <td>2042099</td>\n",
       "      <td>706381092.0</td>\n",
       "      <td>719599827</td>\n",
       "      <td>783193594.0</td>\n",
       "      <td>817853630</td>\n",
       "      <td>1241431983</td>\n",
       "      <td>68115464.0</td>\n",
       "      <td>70796843.0</td>\n",
       "      <td>...</td>\n",
       "      <td>9177107.0</td>\n",
       "      <td>17779</td>\n",
       "      <td>2432</td>\n",
       "      <td>2601010.0</td>\n",
       "      <td>747959.0</td>\n",
       "      <td>2909396.0</td>\n",
       "      <td>12181.0</td>\n",
       "      <td>4279120.0</td>\n",
       "      <td>544958</td>\n",
       "      <td>163391.0</td>\n",
       "    </tr>\n",
       "  </tbody>\n",
       "</table>\n",
       "<p>12 rows × 25 columns</p>\n",
       "</div>"
      ],
      "text/plain": [
       "             Year  DayofMonth  DayOfWeek      DepTime  CRSDepTime  \\\n",
       "Month                                                               \n",
       "1      1216376120     9637046    2331516  789305300.0   805871605   \n",
       "2      1143025888     8638700    2256392  737186777.0   757595293   \n",
       "3      1237108720     9885933    2457829  805115358.0   820125642   \n",
       "4      1201037008     9262673    2295206  783633335.0   794047706   \n",
       "5      1217436344     9656997    2437854  799397803.0   804061415   \n",
       "6      1222199320     9449450    2402206  800165597.0   809582297   \n",
       "7      1260885448    10131471    2414520  822712969.0   833450871   \n",
       "8      1229456232     9612116    2514702  802297201.0   811799375   \n",
       "9      1086143264     8331954    2029791  703078526.0   714626229   \n",
       "10     1116859640     8919716    2185749  731561998.0   734009291   \n",
       "11     1050730176     8049319    2139581  687220857.0   690730253   \n",
       "12     1094275664     8673731    2042099  706381092.0   719599827   \n",
       "\n",
       "           ArrTime  CRSArrTime   FlightNum  ActualElapsedTime  CRSElapsedTime  \\\n",
       "Month                                                                           \n",
       "1      875502886.0   908544314  1350777510         75326996.0      78152979.0   \n",
       "2      813559888.0   852810423  1269689567         70796005.0      73716232.0   \n",
       "3      888076973.0   921594978  1357843574         77566861.0      80398869.0   \n",
       "4      868691557.0   893096468  1311148148         74592890.0      76790307.0   \n",
       "5      888222109.0   904872422  1352817433         76024029.0      77852905.0   \n",
       "6      873382140.0   908420525  1372669982         76763149.0      78534542.0   \n",
       "7      899978090.0   933781514  1411759888         78795145.0      81446019.0   \n",
       "8      884017955.0   910988043  1361257739         76317105.0      79363283.0   \n",
       "9      789491791.0   809517191  1165263664         65344210.0      68308262.0   \n",
       "10     822266849.0   831426982  1213374390         68100570.0      70438731.0   \n",
       "11     772202106.0   785243011  1183003877         65056483.0      67413438.0   \n",
       "12     783193594.0   817853630  1241431983         68115464.0      70796843.0   \n",
       "\n",
       "         ...        TaxiOut  Cancelled  Diverted  CarrierDelay  WeatherDelay  \\\n",
       "Month    ...                                                                   \n",
       "1        ...      9884394.0      17308      1327     2355954.0      429828.0   \n",
       "2        ...      9439291.0      20596      1715     2398296.0      544326.0   \n",
       "3        ...      9944462.0      16183      1564     2527895.0      474687.0   \n",
       "4        ...      9522686.0      10355      1048     1926766.0      268806.0   \n",
       "5        ...      9511659.0       6229       854     1722631.0      240013.0   \n",
       "6        ...     10291303.0      10931      2276     2482267.0      571832.0   \n",
       "7        ...     10402261.0      10598      1910     2417097.0      555794.0   \n",
       "8        ...      9845400.0       9835      1694     2130584.0      398906.0   \n",
       "9        ...      8298844.0       9913       719     1218688.0      157032.0   \n",
       "10       ...      8541452.0       3249       885     1145054.0      105092.0   \n",
       "11       ...      8217491.0       4458       841     1121975.0      139442.0   \n",
       "12       ...      9177107.0      17779      2432     2601010.0      747959.0   \n",
       "\n",
       "        NASDelay  SecurityDelay  LateAircraftDelay   Count     Delay  \n",
       "Month                                                                 \n",
       "1      2422180.0        12912.0          3145788.0  605765  143175.0  \n",
       "2      2572644.0        11361.0          3495284.0  569236  150684.0  \n",
       "3      2487133.0        15117.0          3344243.0  616090  151506.0  \n",
       "4      1964005.0         7645.0          2277313.0  598126  117013.0  \n",
       "5      1996671.0         9751.0          2244264.0  606293  114885.0  \n",
       "6      3226918.0        10614.0          3580641.0  608665  158675.0  \n",
       "7      2716037.0        13126.0          3062892.0  627931  135156.0  \n",
       "8      2068748.0         7414.0          2490422.0  612279  115950.0  \n",
       "9      1177489.0         4823.0          1075911.0  540908   67833.0  \n",
       "10     1102384.0         5285.0          1149195.0  556205   69693.0  \n",
       "11     1527896.0         4087.0          1525169.0  523272   78230.0  \n",
       "12     2909396.0        12181.0          4279120.0  544958  163391.0  \n",
       "\n",
       "[12 rows x 25 columns]"
      ]
     },
     "execution_count": 38,
     "metadata": {},
     "output_type": "execute_result"
    }
   ],
   "source": [
    "months_sum = flights_clean.groupby(['Month']).sum()\n",
    "months_sum"
   ]
  },
  {
   "cell_type": "code",
   "execution_count": 39,
   "metadata": {},
   "outputs": [
    {
     "data": {
      "image/png": "[encoded data removed]",
      "text/plain": [
       "<Figure size 432x288 with 1 Axes>"
      ]
     },
     "metadata": {
      "needs_background": "light"
     },
     "output_type": "display_data"
    }
   ],
   "source": [
    "months_sum[['CarrierDelay','WeatherDelay', 'NASDelay', 'SecurityDelay', 'LateAircraftDelay']].plot(kind='bar', stacked=True);"
   ]
  },
  {
   "cell_type": "markdown",
   "metadata": {},
   "source": [
    "This chart is more or less a summary of the previous charts but makes it more evident which delay causes are most responsible for the overall delays."
   ]
  },
  {
   "cell_type": "markdown",
   "metadata": {},
   "source": [
    "Out of curiosity I want to have a quick look at the cancellations over time"
   ]
  },
  {
   "cell_type": "code",
   "execution_count": 40,
   "metadata": {},
   "outputs": [],
   "source": [
    "for dataset in flights_clean:\n",
    "    flights_clean.loc[flights_clean['Cancelled'] == 1, 'Status'] = 'C'"
   ]
  },
  {
   "cell_type": "code",
   "execution_count": 41,
   "metadata": {},
   "outputs": [
    {
     "data": {
      "text/html": [
       "<div>\n",
       "<style scoped>\n",
       "    .dataframe tbody tr th:only-of-type {\n",
       "        vertical-align: middle;\n",
       "    }\n",
       "\n",
       "    .dataframe tbody tr th {\n",
       "        vertical-align: top;\n",
       "    }\n",
       "\n",
       "    .dataframe thead th {\n",
       "        text-align: right;\n",
       "    }\n",
       "</style>\n",
       "<table border=\"1\" class=\"dataframe\">\n",
       "  <thead>\n",
       "    <tr style=\"text-align: right;\">\n",
       "      <th></th>\n",
       "      <th>Year</th>\n",
       "      <th>DayofMonth</th>\n",
       "      <th>DayOfWeek</th>\n",
       "      <th>DepTime</th>\n",
       "      <th>CRSDepTime</th>\n",
       "      <th>ArrTime</th>\n",
       "      <th>CRSArrTime</th>\n",
       "      <th>FlightNum</th>\n",
       "      <th>ActualElapsedTime</th>\n",
       "      <th>CRSElapsedTime</th>\n",
       "      <th>...</th>\n",
       "      <th>TaxiOut</th>\n",
       "      <th>Cancelled</th>\n",
       "      <th>Diverted</th>\n",
       "      <th>CarrierDelay</th>\n",
       "      <th>WeatherDelay</th>\n",
       "      <th>NASDelay</th>\n",
       "      <th>SecurityDelay</th>\n",
       "      <th>LateAircraftDelay</th>\n",
       "      <th>Count</th>\n",
       "      <th>Delay</th>\n",
       "    </tr>\n",
       "    <tr>\n",
       "      <th>Month</th>\n",
       "      <th></th>\n",
       "      <th></th>\n",
       "      <th></th>\n",
       "      <th></th>\n",
       "      <th></th>\n",
       "      <th></th>\n",
       "      <th></th>\n",
       "      <th></th>\n",
       "      <th></th>\n",
       "      <th></th>\n",
       "      <th></th>\n",
       "      <th></th>\n",
       "      <th></th>\n",
       "      <th></th>\n",
       "      <th></th>\n",
       "      <th></th>\n",
       "      <th></th>\n",
       "      <th></th>\n",
       "      <th></th>\n",
       "      <th></th>\n",
       "      <th></th>\n",
       "    </tr>\n",
       "  </thead>\n",
       "  <tbody>\n",
       "    <tr>\n",
       "      <th>1</th>\n",
       "      <td>1216376120</td>\n",
       "      <td>9637046</td>\n",
       "      <td>2331516</td>\n",
       "      <td>789305300.0</td>\n",
       "      <td>805871605</td>\n",
       "      <td>875502886.0</td>\n",
       "      <td>908544314</td>\n",
       "      <td>1350777510</td>\n",
       "      <td>75326996.0</td>\n",
       "      <td>78152979.0</td>\n",
       "      <td>...</td>\n",
       "      <td>9884394.0</td>\n",
       "      <td>17308</td>\n",
       "      <td>1327</td>\n",
       "      <td>2355954.0</td>\n",
       "      <td>429828.0</td>\n",
       "      <td>2422180.0</td>\n",
       "      <td>12912.0</td>\n",
       "      <td>3145788.0</td>\n",
       "      <td>605765</td>\n",
       "      <td>143175.0</td>\n",
       "    </tr>\n",
       "    <tr>\n",
       "      <th>2</th>\n",
       "      <td>1143025888</td>\n",
       "      <td>8638700</td>\n",
       "      <td>2256392</td>\n",
       "      <td>737186777.0</td>\n",
       "      <td>757595293</td>\n",
       "      <td>813559888.0</td>\n",
       "      <td>852810423</td>\n",
       "      <td>1269689567</td>\n",
       "      <td>70796005.0</td>\n",
       "      <td>73716232.0</td>\n",
       "      <td>...</td>\n",
       "      <td>9439291.0</td>\n",
       "      <td>20596</td>\n",
       "      <td>1715</td>\n",
       "      <td>2398296.0</td>\n",
       "      <td>544326.0</td>\n",
       "      <td>2572644.0</td>\n",
       "      <td>11361.0</td>\n",
       "      <td>3495284.0</td>\n",
       "      <td>569236</td>\n",
       "      <td>150684.0</td>\n",
       "    </tr>\n",
       "    <tr>\n",
       "      <th>3</th>\n",
       "      <td>1237108720</td>\n",
       "      <td>9885933</td>\n",
       "      <td>2457829</td>\n",
       "      <td>805115358.0</td>\n",
       "      <td>820125642</td>\n",
       "      <td>888076973.0</td>\n",
       "      <td>921594978</td>\n",
       "      <td>1357843574</td>\n",
       "      <td>77566861.0</td>\n",
       "      <td>80398869.0</td>\n",
       "      <td>...</td>\n",
       "      <td>9944462.0</td>\n",
       "      <td>16183</td>\n",
       "      <td>1564</td>\n",
       "      <td>2527895.0</td>\n",
       "      <td>474687.0</td>\n",
       "      <td>2487133.0</td>\n",
       "      <td>15117.0</td>\n",
       "      <td>3344243.0</td>\n",
       "      <td>616090</td>\n",
       "      <td>151506.0</td>\n",
       "    </tr>\n",
       "    <tr>\n",
       "      <th>4</th>\n",
       "      <td>1201037008</td>\n",
       "      <td>9262673</td>\n",
       "      <td>2295206</td>\n",
       "      <td>783633335.0</td>\n",
       "      <td>794047706</td>\n",
       "      <td>868691557.0</td>\n",
       "      <td>893096468</td>\n",
       "      <td>1311148148</td>\n",
       "      <td>74592890.0</td>\n",
       "      <td>76790307.0</td>\n",
       "      <td>...</td>\n",
       "      <td>9522686.0</td>\n",
       "      <td>10355</td>\n",
       "      <td>1048</td>\n",
       "      <td>1926766.0</td>\n",
       "      <td>268806.0</td>\n",
       "      <td>1964005.0</td>\n",
       "      <td>7645.0</td>\n",
       "      <td>2277313.0</td>\n",
       "      <td>598126</td>\n",
       "      <td>117013.0</td>\n",
       "    </tr>\n",
       "    <tr>\n",
       "      <th>5</th>\n",
       "      <td>1217436344</td>\n",
       "      <td>9656997</td>\n",
       "      <td>2437854</td>\n",
       "      <td>799397803.0</td>\n",
       "      <td>804061415</td>\n",
       "      <td>888222109.0</td>\n",
       "      <td>904872422</td>\n",
       "      <td>1352817433</td>\n",
       "      <td>76024029.0</td>\n",
       "      <td>77852905.0</td>\n",
       "      <td>...</td>\n",
       "      <td>9511659.0</td>\n",
       "      <td>6229</td>\n",
       "      <td>854</td>\n",
       "      <td>1722631.0</td>\n",
       "      <td>240013.0</td>\n",
       "      <td>1996671.0</td>\n",
       "      <td>9751.0</td>\n",
       "      <td>2244264.0</td>\n",
       "      <td>606293</td>\n",
       "      <td>114885.0</td>\n",
       "    </tr>\n",
       "    <tr>\n",
       "      <th>6</th>\n",
       "      <td>1222199320</td>\n",
       "      <td>9449450</td>\n",
       "      <td>2402206</td>\n",
       "      <td>800165597.0</td>\n",
       "      <td>809582297</td>\n",
       "      <td>873382140.0</td>\n",
       "      <td>908420525</td>\n",
       "      <td>1372669982</td>\n",
       "      <td>76763149.0</td>\n",
       "      <td>78534542.0</td>\n",
       "      <td>...</td>\n",
       "      <td>10291303.0</td>\n",
       "      <td>10931</td>\n",
       "      <td>2276</td>\n",
       "      <td>2482267.0</td>\n",
       "      <td>571832.0</td>\n",
       "      <td>3226918.0</td>\n",
       "      <td>10614.0</td>\n",
       "      <td>3580641.0</td>\n",
       "      <td>608665</td>\n",
       "      <td>158675.0</td>\n",
       "    </tr>\n",
       "    <tr>\n",
       "      <th>7</th>\n",
       "      <td>1260885448</td>\n",
       "      <td>10131471</td>\n",
       "      <td>2414520</td>\n",
       "      <td>822712969.0</td>\n",
       "      <td>833450871</td>\n",
       "      <td>899978090.0</td>\n",
       "      <td>933781514</td>\n",
       "      <td>1411759888</td>\n",
       "      <td>78795145.0</td>\n",
       "      <td>81446019.0</td>\n",
       "      <td>...</td>\n",
       "      <td>10402261.0</td>\n",
       "      <td>10598</td>\n",
       "      <td>1910</td>\n",
       "      <td>2417097.0</td>\n",
       "      <td>555794.0</td>\n",
       "      <td>2716037.0</td>\n",
       "      <td>13126.0</td>\n",
       "      <td>3062892.0</td>\n",
       "      <td>627931</td>\n",
       "      <td>135156.0</td>\n",
       "    </tr>\n",
       "    <tr>\n",
       "      <th>8</th>\n",
       "      <td>1229456232</td>\n",
       "      <td>9612116</td>\n",
       "      <td>2514702</td>\n",
       "      <td>802297201.0</td>\n",
       "      <td>811799375</td>\n",
       "      <td>884017955.0</td>\n",
       "      <td>910988043</td>\n",
       "      <td>1361257739</td>\n",
       "      <td>76317105.0</td>\n",
       "      <td>79363283.0</td>\n",
       "      <td>...</td>\n",
       "      <td>9845400.0</td>\n",
       "      <td>9835</td>\n",
       "      <td>1694</td>\n",
       "      <td>2130584.0</td>\n",
       "      <td>398906.0</td>\n",
       "      <td>2068748.0</td>\n",
       "      <td>7414.0</td>\n",
       "      <td>2490422.0</td>\n",
       "      <td>612279</td>\n",
       "      <td>115950.0</td>\n",
       "    </tr>\n",
       "    <tr>\n",
       "      <th>9</th>\n",
       "      <td>1086143264</td>\n",
       "      <td>8331954</td>\n",
       "      <td>2029791</td>\n",
       "      <td>703078526.0</td>\n",
       "      <td>714626229</td>\n",
       "      <td>789491791.0</td>\n",
       "      <td>809517191</td>\n",
       "      <td>1165263664</td>\n",
       "      <td>65344210.0</td>\n",
       "      <td>68308262.0</td>\n",
       "      <td>...</td>\n",
       "      <td>8298844.0</td>\n",
       "      <td>9913</td>\n",
       "      <td>719</td>\n",
       "      <td>1218688.0</td>\n",
       "      <td>157032.0</td>\n",
       "      <td>1177489.0</td>\n",
       "      <td>4823.0</td>\n",
       "      <td>1075911.0</td>\n",
       "      <td>540908</td>\n",
       "      <td>67833.0</td>\n",
       "    </tr>\n",
       "    <tr>\n",
       "      <th>10</th>\n",
       "      <td>1116859640</td>\n",
       "      <td>8919716</td>\n",
       "      <td>2185749</td>\n",
       "      <td>731561998.0</td>\n",
       "      <td>734009291</td>\n",
       "      <td>822266849.0</td>\n",
       "      <td>831426982</td>\n",
       "      <td>1213374390</td>\n",
       "      <td>68100570.0</td>\n",
       "      <td>70438731.0</td>\n",
       "      <td>...</td>\n",
       "      <td>8541452.0</td>\n",
       "      <td>3249</td>\n",
       "      <td>885</td>\n",
       "      <td>1145054.0</td>\n",
       "      <td>105092.0</td>\n",
       "      <td>1102384.0</td>\n",
       "      <td>5285.0</td>\n",
       "      <td>1149195.0</td>\n",
       "      <td>556205</td>\n",
       "      <td>69693.0</td>\n",
       "    </tr>\n",
       "    <tr>\n",
       "      <th>11</th>\n",
       "      <td>1050730176</td>\n",
       "      <td>8049319</td>\n",
       "      <td>2139581</td>\n",
       "      <td>687220857.0</td>\n",
       "      <td>690730253</td>\n",
       "      <td>772202106.0</td>\n",
       "      <td>785243011</td>\n",
       "      <td>1183003877</td>\n",
       "      <td>65056483.0</td>\n",
       "      <td>67413438.0</td>\n",
       "      <td>...</td>\n",
       "      <td>8217491.0</td>\n",
       "      <td>4458</td>\n",
       "      <td>841</td>\n",
       "      <td>1121975.0</td>\n",
       "      <td>139442.0</td>\n",
       "      <td>1527896.0</td>\n",
       "      <td>4087.0</td>\n",
       "      <td>1525169.0</td>\n",
       "      <td>523272</td>\n",
       "      <td>78230.0</td>\n",
       "    </tr>\n",
       "    <tr>\n",
       "      <th>12</th>\n",
       "      <td>1094275664</td>\n",
       "      <td>8673731</td>\n",
       "      <td>2042099</td>\n",
       "      <td>706381092.0</td>\n",
       "      <td>719599827</td>\n",
       "      <td>783193594.0</td>\n",
       "      <td>817853630</td>\n",
       "      <td>1241431983</td>\n",
       "      <td>68115464.0</td>\n",
       "      <td>70796843.0</td>\n",
       "      <td>...</td>\n",
       "      <td>9177107.0</td>\n",
       "      <td>17779</td>\n",
       "      <td>2432</td>\n",
       "      <td>2601010.0</td>\n",
       "      <td>747959.0</td>\n",
       "      <td>2909396.0</td>\n",
       "      <td>12181.0</td>\n",
       "      <td>4279120.0</td>\n",
       "      <td>544958</td>\n",
       "      <td>163391.0</td>\n",
       "    </tr>\n",
       "  </tbody>\n",
       "</table>\n",
       "<p>12 rows × 25 columns</p>\n",
       "</div>"
      ],
      "text/plain": [
       "             Year  DayofMonth  DayOfWeek      DepTime  CRSDepTime  \\\n",
       "Month                                                               \n",
       "1      1216376120     9637046    2331516  789305300.0   805871605   \n",
       "2      1143025888     8638700    2256392  737186777.0   757595293   \n",
       "3      1237108720     9885933    2457829  805115358.0   820125642   \n",
       "4      1201037008     9262673    2295206  783633335.0   794047706   \n",
       "5      1217436344     9656997    2437854  799397803.0   804061415   \n",
       "6      1222199320     9449450    2402206  800165597.0   809582297   \n",
       "7      1260885448    10131471    2414520  822712969.0   833450871   \n",
       "8      1229456232     9612116    2514702  802297201.0   811799375   \n",
       "9      1086143264     8331954    2029791  703078526.0   714626229   \n",
       "10     1116859640     8919716    2185749  731561998.0   734009291   \n",
       "11     1050730176     8049319    2139581  687220857.0   690730253   \n",
       "12     1094275664     8673731    2042099  706381092.0   719599827   \n",
       "\n",
       "           ArrTime  CRSArrTime   FlightNum  ActualElapsedTime  CRSElapsedTime  \\\n",
       "Month                                                                           \n",
       "1      875502886.0   908544314  1350777510         75326996.0      78152979.0   \n",
       "2      813559888.0   852810423  1269689567         70796005.0      73716232.0   \n",
       "3      888076973.0   921594978  1357843574         77566861.0      80398869.0   \n",
       "4      868691557.0   893096468  1311148148         74592890.0      76790307.0   \n",
       "5      888222109.0   904872422  1352817433         76024029.0      77852905.0   \n",
       "6      873382140.0   908420525  1372669982         76763149.0      78534542.0   \n",
       "7      899978090.0   933781514  1411759888         78795145.0      81446019.0   \n",
       "8      884017955.0   910988043  1361257739         76317105.0      79363283.0   \n",
       "9      789491791.0   809517191  1165263664         65344210.0      68308262.0   \n",
       "10     822266849.0   831426982  1213374390         68100570.0      70438731.0   \n",
       "11     772202106.0   785243011  1183003877         65056483.0      67413438.0   \n",
       "12     783193594.0   817853630  1241431983         68115464.0      70796843.0   \n",
       "\n",
       "         ...        TaxiOut  Cancelled  Diverted  CarrierDelay  WeatherDelay  \\\n",
       "Month    ...                                                                   \n",
       "1        ...      9884394.0      17308      1327     2355954.0      429828.0   \n",
       "2        ...      9439291.0      20596      1715     2398296.0      544326.0   \n",
       "3        ...      9944462.0      16183      1564     2527895.0      474687.0   \n",
       "4        ...      9522686.0      10355      1048     1926766.0      268806.0   \n",
       "5        ...      9511659.0       6229       854     1722631.0      240013.0   \n",
       "6        ...     10291303.0      10931      2276     2482267.0      571832.0   \n",
       "7        ...     10402261.0      10598      1910     2417097.0      555794.0   \n",
       "8        ...      9845400.0       9835      1694     2130584.0      398906.0   \n",
       "9        ...      8298844.0       9913       719     1218688.0      157032.0   \n",
       "10       ...      8541452.0       3249       885     1145054.0      105092.0   \n",
       "11       ...      8217491.0       4458       841     1121975.0      139442.0   \n",
       "12       ...      9177107.0      17779      2432     2601010.0      747959.0   \n",
       "\n",
       "        NASDelay  SecurityDelay  LateAircraftDelay   Count     Delay  \n",
       "Month                                                                 \n",
       "1      2422180.0        12912.0          3145788.0  605765  143175.0  \n",
       "2      2572644.0        11361.0          3495284.0  569236  150684.0  \n",
       "3      2487133.0        15117.0          3344243.0  616090  151506.0  \n",
       "4      1964005.0         7645.0          2277313.0  598126  117013.0  \n",
       "5      1996671.0         9751.0          2244264.0  606293  114885.0  \n",
       "6      3226918.0        10614.0          3580641.0  608665  158675.0  \n",
       "7      2716037.0        13126.0          3062892.0  627931  135156.0  \n",
       "8      2068748.0         7414.0          2490422.0  612279  115950.0  \n",
       "9      1177489.0         4823.0          1075911.0  540908   67833.0  \n",
       "10     1102384.0         5285.0          1149195.0  556205   69693.0  \n",
       "11     1527896.0         4087.0          1525169.0  523272   78230.0  \n",
       "12     2909396.0        12181.0          4279120.0  544958  163391.0  \n",
       "\n",
       "[12 rows x 25 columns]"
      ]
     },
     "execution_count": 41,
     "metadata": {},
     "output_type": "execute_result"
    }
   ],
   "source": [
    "flights_cancelled = flights_clean.groupby(['Month']).sum()\n",
    "flights_cancelled"
   ]
  },
  {
   "cell_type": "code",
   "execution_count": 42,
   "metadata": {},
   "outputs": [
    {
     "data": {
      "image/png": "[encoded data removed]",
      "text/plain": [
       "<Figure size 432x288 with 1 Axes>"
      ]
     },
     "metadata": {
      "needs_background": "light"
     },
     "output_type": "display_data"
    }
   ],
   "source": [
    "flights_cancelled[['Cancelled']].plot(kind='bar');"
   ]
  },
  {
   "cell_type": "markdown",
   "metadata": {},
   "source": [
    "Interestingly it seems like the months with the highest average delays are also the months with the most cancellations."
   ]
  },
  {
   "cell_type": "markdown",
   "metadata": {},
   "source": [
    "To put all the delays and cancellations into the right perspective I will now have a look at the percentage of flights in time."
   ]
  },
  {
   "cell_type": "code",
   "execution_count": 43,
   "metadata": {},
   "outputs": [
    {
     "data": {
      "text/plain": [
       "0.21751699923306583"
      ]
     },
     "execution_count": 43,
     "metadata": {},
     "output_type": "execute_result"
    }
   ],
   "source": [
    "# percentage of flights with a delay\n",
    "(flights_clean.groupby(flights_clean['ArrDelay']>=15.0).sum())['Count'][1] / ((flights_clean.groupby(flights_clean['ArrDelay']>=15.0).sum())['Count'][0] + (flights_clean.groupby(flights_clean['ArrDelay']>=15.0).sum())['Count'][1])"
   ]
  },
  {
   "cell_type": "code",
   "execution_count": 44,
   "metadata": {},
   "outputs": [],
   "source": [
    "months_sum['DelayPercent'] = months_sum['Delay'] / months_sum['Count']"
   ]
  },
  {
   "cell_type": "code",
   "execution_count": 45,
   "metadata": {},
   "outputs": [
    {
     "data": {
      "image/png": "[encoded data removed]",
      "text/plain": [
       "<Figure size 432x288 with 1 Axes>"
      ]
     },
     "metadata": {
      "needs_background": "light"
     },
     "output_type": "display_data"
    }
   ],
   "source": [
    "months_sum[['DelayPercent']].plot(kind='line');"
   ]
  },
  {
   "cell_type": "markdown",
   "metadata": {},
   "source": [
    "This chart correlates with the charts for the number of delays from above. (Which makes sense)"
   ]
  },
  {
   "cell_type": "markdown",
   "metadata": {},
   "source": [
    "### Talk about some of the relationships you observed in this part of the investigation. How did the feature(s) of interest vary with other features in the dataset?\n",
    "\n",
    "It seems like the numeric variables in this dataset have only weak correlations, which is a little bit surprising. I expected at least some correlation between the delay causes and ArrDelay and DepDelay. The only strong correlation is between Departure and Arrival Delay. (Which was somehow expected)\n",
    "\n",
    "The correlation between DepDelay and ArrDelay is very strong (as expected). Also it is obvious that a Departure Delay can be compensated during the flight in many cases. There are also two extreme outliers: One delay with over 40h on departure (and arrival) and one flight with a high negative delay time\n",
    "\n",
    "The highest average delay is in December, followed by February and June\n",
    "\n",
    "Except for the Security Delay line all lines look more or less like the overall Departure and Arrival Delay lines.\n",
    "Due to the high impact on the overall delay the line of the average Late Aircraft Delay looks most similar to the overall Arrival And Departure delay line\n",
    "\n",
    "### Did you observe any interesting relationships between the other features (not the main feature(s) of interest)?\n",
    "\n",
    "Interestingly it seems like the months with the highest average delays are also the months with the most cancellations.\n",
    "\n",
    "The percentage of flights in time correlates with the charts for the number of delays over the months. (Which makes sense)"
   ]
  },
  {
   "cell_type": "markdown",
   "metadata": {},
   "source": [
    "## Multivariate Exploration"
   ]
  },
  {
   "cell_type": "markdown",
   "metadata": {},
   "source": [
    "The last thing I want to explore is the average delays by airline"
   ]
  },
  {
   "cell_type": "code",
   "execution_count": 46,
   "metadata": {},
   "outputs": [],
   "source": [
    "carrier_sum = flights_clean.groupby(['UniqueCarrier']).sum()"
   ]
  },
  {
   "cell_type": "code",
   "execution_count": 47,
   "metadata": {},
   "outputs": [],
   "source": [
    "carrier_avg = flights_clean.groupby(['UniqueCarrier']).mean()"
   ]
  },
  {
   "cell_type": "code",
   "execution_count": 48,
   "metadata": {},
   "outputs": [],
   "source": [
    "frames = [carrier_sum['Count'], carrier_avg['ArrDelay'], carrier_avg['DepDelay']]\n",
    "airline_data = pd.concat(frames, axis=1)"
   ]
  },
  {
   "cell_type": "code",
   "execution_count": 49,
   "metadata": {},
   "outputs": [],
   "source": [
    "airline_data['Count'] = airline_data['Count'] / 250"
   ]
  },
  {
   "cell_type": "code",
   "execution_count": 50,
   "metadata": {},
   "outputs": [
    {
     "data": {
      "image/png": "[encoded data removed]",
      "text/plain": [
       "<Figure size 1080x720 with 1 Axes>"
      ]
     },
     "metadata": {
      "needs_background": "light"
     },
     "output_type": "display_data"
    }
   ],
   "source": [
    "plt.figure(figsize=(15,10))\n",
    "plt.scatter(data = airline_data, x = 'ArrDelay', y = 'DepDelay', s = 'Count')\n",
    "plt.title('Average Delay by Airline')\n",
    "plt.xlabel('DepDelay [min]')\n",
    "plt.ylabel('ArrDelay [min]');\n",
    "\n",
    "# Legend\n",
    "sizes = [10, 60, 120]\n",
    "base_color = sb.color_palette()\n",
    "legend_obj = []\n",
    "for s in sizes:\n",
    "    legend_obj.append(plt.scatter([], [], s = s, color = base_color))\n",
    "plt.legend(legend_obj, sizes);"
   ]
  },
  {
   "cell_type": "markdown",
   "metadata": {},
   "source": [
    "### Talk about some of the relationships you observed in this part of the investigation. Were there features that strengthened each other in terms of looking at your feature(s) of interest?\n",
    "\n",
    "The size of the airline (by # of flights) does not seem to have a big impact on the average delay. There are smaller and bigger bubbles spread across the chart. Airlines with an average Departure Delay of >6 mins tend to keep this delay until arrival. Airlines with average Departure Delay of <6 mins seem to increase their delay until arrival slightly.\n",
    "One interesting outlier is the biggest bubble (Soutwestern) which is the biggest airline. They tend to increase the delay from departure to arrival much more than the other airlines."
   ]
  },
  {
   "cell_type": "code",
   "execution_count": null,
   "metadata": {},
   "outputs": [],
   "source": []
  },
  {
   "cell_type": "code",
   "execution_count": null,
   "metadata": {},
   "outputs": [],
   "source": []
  },
  {
   "cell_type": "markdown",
   "metadata": {},
   "source": [
    "> At the end of your report, make sure that you export the notebook as an\n",
    "html file from the `File > Download as... > HTML` menu. Make sure you keep\n",
    "track of where the exported file goes, so you can put it in the same folder\n",
    "as this notebook for project submission. Also, make sure you remove all of\n",
    "the quote-formatted guide notes like this one before you finish your report!"
   ]
  },
  {
   "cell_type": "markdown",
   "metadata": {},
   "source": [
    "#Sources:\n",
    "- Stackoverflow\n",
    "- https://chrisalbon.com/python/data_wrangling/pandas_apply_operations_to_groups/\n",
    "- This Course\n",
    "- The official documentations of Python, Pandas, Matplotlib, Seaborn"
   ]
  }
 ],
 "metadata": {
  "kernelspec": {
   "display_name": "Python 3",
   "language": "python",
   "name": "python3"
  },
  "language_info": {
   "codemirror_mode": {
    "name": "ipython",
    "version": 3
   },
   "file_extension": ".py",
   "mimetype": "text/x-python",
   "name": "python",
   "nbconvert_exporter": "python",
   "pygments_lexer": "ipython3",
   "version": "3.7.0"
  }
 },
 "nbformat": 4,
 "nbformat_minor": 2
}
